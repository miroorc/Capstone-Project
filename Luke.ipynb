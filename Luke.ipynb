{
  "cells": [
    {
      "cell_type": "markdown",
      "metadata": {
        "id": "view-in-github",
        "colab_type": "text"
      },
      "source": [
        "<a href=\"https://colab.research.google.com/github/miroorc/Capstone-Project/blob/main/Luke.ipynb\" target=\"_parent\"><img src=\"https://colab.research.google.com/assets/colab-badge.svg\" alt=\"Open In Colab\"/></a>"
      ]
    },
    {
      "cell_type": "code",
      "execution_count": null,
      "metadata": {
        "id": "-OuAWDmGLdh-"
      },
      "outputs": [],
      "source": [
        "pip install --upgrade datasets"
      ]
    },
    {
      "cell_type": "code",
      "execution_count": null,
      "metadata": {
        "id": "s8Tg7kb2TAEc"
      },
      "outputs": [],
      "source": [
        "pip install transformers"
      ]
    },
    {
      "cell_type": "code",
      "execution_count": null,
      "metadata": {
        "id": "C0qLo6NYTDEs"
      },
      "outputs": [],
      "source": [
        "pip install transformers[torch]"
      ]
    },
    {
      "cell_type": "code",
      "execution_count": null,
      "metadata": {
        "id": "SLE-1lMVRPdZ"
      },
      "outputs": [],
      "source": [
        "#load the ecthra dataset from lex_glue\n",
        "from datasets import load_dataset\n",
        "ecthra = load_dataset(\"lex_glue\", \"ecthr_a\")"
      ]
    },
    {
      "cell_type": "code",
      "execution_count": null,
      "metadata": {
        "id": "UFBfW9ocINxb"
      },
      "outputs": [],
      "source": [
        "#ecthra['train']=ecthra['train'].select([10])\n",
        "#ecthra['test']=ecthra['test'].select(range(10))\n",
        "#ecthra['validation']=ecthra['validation'].select(range(10))"
      ]
    },
    {
      "cell_type": "code",
      "execution_count": null,
      "metadata": {
        "id": "gsoG5Stho4OM"
      },
      "outputs": [],
      "source": [
        "#Extract the train, test, and validation parts of the ecthra dataset.\n",
        "train=ecthra['train']\n",
        "validation=ecthra['validation']\n",
        "test=ecthra['test']"
      ]
    },
    {
      "cell_type": "code",
      "execution_count": null,
      "metadata": {
        "id": "ZxuQRymiQNxn"
      },
      "outputs": [],
      "source": [
        "#convert label to one-hot form\n",
        "import numpy as np\n",
        "num_classes = 10\n",
        "\n",
        "def one_hot_encode_multi(labels, num_classes):\n",
        "    encoded_labels = np.zeros((len(labels),num_classes))\n",
        "    for i, sublist in enumerate(labels):\n",
        "        encoded_labels[i, sublist] = 1\n",
        "    return encoded_labels"
      ]
    },
    {
      "cell_type": "code",
      "execution_count": null,
      "metadata": {
        "id": "oewQJM01ZUa8"
      },
      "outputs": [],
      "source": [
        "train_one_hot=one_hot_encode_multi(train['labels'],10)\n",
        "train_one_hot = train_one_hot.tolist()\n",
        "train=train.add_column(name=\"labels_one_hot\", column=train_one_hot)"
      ]
    },
    {
      "cell_type": "code",
      "execution_count": null,
      "metadata": {
        "id": "1P8O4XnBzWD6"
      },
      "outputs": [],
      "source": [
        "test_one_hot=one_hot_encode_multi(test['labels'],10)\n",
        "test_one_hot = test_one_hot.tolist()\n",
        "test=test.add_column(name=\"labels_one_hot\", column=test_one_hot)"
      ]
    },
    {
      "cell_type": "code",
      "execution_count": null,
      "metadata": {
        "id": "Kf_MR_F5zWGi"
      },
      "outputs": [],
      "source": [
        "validation_one_hot=one_hot_encode_multi(validation['labels'],10)\n",
        "validation_one_hot = validation_one_hot.tolist()\n",
        "validation=validation.add_column(name=\"labels_one_hot\", column=validation_one_hot)"
      ]
    },
    {
      "cell_type": "code",
      "execution_count": null,
      "metadata": {
        "id": "nSA8EKczrzJl"
      },
      "outputs": [],
      "source": [
        "#clean the dataset to remove meaningless characters\n",
        "import re\n",
        "def format_text(text):\n",
        "    text_format = []\n",
        "    text=[[re.sub(r\"^\\d+\\.\\s*\",\"\",s) for s in sublst] for sublst in text]\n",
        "    for each in text:\n",
        "        text_format.append(''.join(each))\n",
        "    return text_format"
      ]
    },
    {
      "cell_type": "code",
      "execution_count": null,
      "metadata": {
        "id": "mrf4ZHXyyfHO"
      },
      "outputs": [],
      "source": [
        "train_text_format=format_text(train['text'])\n",
        "train=train.remove_columns('text')\n",
        "train=train.add_column(name=\"text\", column=train_text_format)\n",
        "ecthra['train']=train"
      ]
    },
    {
      "cell_type": "code",
      "execution_count": null,
      "metadata": {
        "id": "IfN2CHe1f2fO"
      },
      "outputs": [],
      "source": [
        "test_text_format=format_text(test['text'])\n",
        "test=test.remove_columns('text')\n",
        "test=test.add_column(name=\"text\", column=test_text_format)\n",
        "ecthra['test']=test"
      ]
    },
    {
      "cell_type": "code",
      "execution_count": null,
      "metadata": {
        "id": "cgDLv7Hnf2iE"
      },
      "outputs": [],
      "source": [
        "validation_text_format=format_text(validation['text'])\n",
        "validation=validation.remove_columns('text')\n",
        "validation=validation.add_column(name=\"text\", column=validation_text_format)\n",
        "ecthra['validation']=validation"
      ]
    },
    {
      "cell_type": "code",
      "execution_count": null,
      "metadata": {
        "id": "dpgsnicC8HKy"
      },
      "outputs": [],
      "source": [
        "ecthra=ecthra.remove_columns('labels')\n",
        "ecthra=ecthra.rename_column('labels_one_hot', 'labels')"
      ]
    },
    {
      "cell_type": "code",
      "execution_count": null,
      "metadata": {
        "id": "tbw0HoQwePI1"
      },
      "outputs": [],
      "source": [
        "from transformers import AutoTokenizer, LukeForSequenceClassification"
      ]
    },
    {
      "cell_type": "code",
      "execution_count": null,
      "metadata": {
        "id": "rHOPHu3XZUn_"
      },
      "outputs": [],
      "source": [
        "#define fine-tuning model and tokenizer\n",
        "\n",
        "\n",
        "model_ckpt = \"studio-ousia/luke-base\"\n",
        "tokenizer = AutoTokenizer.from_pretrained(model_ckpt, problem_type=\"multi_label_classification\")\n",
        "\n"
      ]
    },
    {
      "cell_type": "code",
      "execution_count": null,
      "metadata": {
        "id": "UbPqqWGjeChW"
      },
      "outputs": [],
      "source": [
        "def tokenize_and_encode(examples):\n",
        "  return tokenizer(examples[\"text\"], truncation=True)"
      ]
    },
    {
      "cell_type": "code",
      "execution_count": null,
      "metadata": {
        "colab": {
          "base_uri": "https://localhost:8080/",
          "height": 137,
          "referenced_widgets": [
            "cadcbe07c8414038b3ef7617a7651be1",
            "4d4cd5c3061f4d5bbd67547b4840bcc8",
            "07ae0784f17c40ec938c39f72d6f37c8",
            "af03d8454e5d467d8fd06e5445e62826",
            "a886731d4a4347bd86fad3846151f521",
            "65c4a9648bc24433a7dba9b6cd3b98ae",
            "66d0a9f19e74410b8fe7a85393b3b642",
            "c607dc00d9074ae0b2ae0ebe5d487beb",
            "ec004315298c43dfa0a07548b67f5e91",
            "887d4fc14fb341f7beff7f06402d822e",
            "160e88fdcf5a413eab10bd1c13c7e340",
            "b565bb86a61246058c025628195c6a88",
            "de6fa7e634dc423d9a63eed5e14a07ce",
            "f837e724843a4950aa8e65b3eacb9547",
            "1832025d1a604c5b88621e32ad70a990",
            "d121f470828e40d69ed3e013b8ac5658",
            "4b66589afb5e4b0c8bde4d2f1dc73469",
            "fd632cf1421d4f4d92a8fe4ee4d59c1b",
            "a0bc896118554b4e8f7d19eb57f2298b",
            "8dffb4b258374ab891c35bc41af319ab",
            "f14206d18dcb49cba1102f866fa54539",
            "423d762d61b64ae7bca35310303766b5"
          ]
        },
        "id": "XqiSm8ZFeCkQ",
        "outputId": "e02cf107-dd7c-4996-bce6-c4dd7afbbec9"
      },
      "outputs": [
        {
          "data": {
            "application/vnd.jupyter.widget-view+json": {
              "model_id": "cadcbe07c8414038b3ef7617a7651be1",
              "version_major": 2,
              "version_minor": 0
            },
            "text/plain": [
              "Map:   0%|          | 0/1000 [00:00<?, ? examples/s]"
            ]
          },
          "metadata": {},
          "output_type": "display_data"
        },
        {
          "data": {
            "application/vnd.jupyter.widget-view+json": {
              "model_id": "b565bb86a61246058c025628195c6a88",
              "version_major": 2,
              "version_minor": 0
            },
            "text/plain": [
              "Map:   0%|          | 0/1000 [00:00<?, ? examples/s]"
            ]
          },
          "metadata": {},
          "output_type": "display_data"
        }
      ],
      "source": [
        "cols = ecthra[\"train\"].column_names\n",
        "cols.remove(\"labels\")\n",
        "ds_enc = ecthra.map(tokenize_and_encode, batched=True, remove_columns=cols)\n"
      ]
    },
    {
      "cell_type": "code",
      "execution_count": null,
      "metadata": {
        "colab": {
          "base_uri": "https://localhost:8080/"
        },
        "id": "gxdUlplwhYZ0",
        "outputId": "114e4157-dd87-4a29-ddd8-65da50566715"
      },
      "outputs": [
        {
          "data": {
            "text/plain": [
              "Dataset({\n",
              "    features: ['labels', 'input_ids', 'attention_mask'],\n",
              "    num_rows: 9000\n",
              "})"
            ]
          },
          "execution_count": 17,
          "metadata": {},
          "output_type": "execute_result"
        }
      ],
      "source": [
        "ds_enc['train']"
      ]
    },
    {
      "cell_type": "code",
      "execution_count": null,
      "metadata": {
        "colab": {
          "base_uri": "https://localhost:8080/"
        },
        "id": "NKSelhfzhAl7",
        "outputId": "8a3c7640-7a8e-4f04-e452-af6a51b82a0f"
      },
      "outputs": [
        {
          "data": {
            "text/plain": [
              "512"
            ]
          },
          "execution_count": 18,
          "metadata": {},
          "output_type": "execute_result"
        }
      ],
      "source": [
        "len(ds_enc['train'][0]['input_ids'])"
      ]
    },
    {
      "cell_type": "code",
      "execution_count": null,
      "metadata": {
        "id": "PZDannBu35GD"
      },
      "outputs": [],
      "source": [
        "ds_enc.set_format(\"torch\")"
      ]
    },
    {
      "cell_type": "code",
      "execution_count": null,
      "metadata": {
        "id": "JF_hEVOB6Ufd"
      },
      "outputs": [],
      "source": [
        "\n"
      ]
    },
    {
      "cell_type": "code",
      "execution_count": null,
      "metadata": {
        "colab": {
          "base_uri": "https://localhost:8080/"
        },
        "id": "BBJQdh3B0Yh1",
        "outputId": "9c9f13a8-d0eb-4cea-f75e-670e55a9f73b"
      },
      "outputs": [
        {
          "name": "stderr",
          "output_type": "stream",
          "text": [
            "Some weights of LukeForSequenceClassification were not initialized from the model checkpoint at studio-ousia/luke-base and are newly initialized: ['classifier.bias', 'classifier.weight']\n",
            "You should probably TRAIN this model on a down-stream task to be able to use it for predictions and inference.\n"
          ]
        }
      ],
      "source": [
        "num_labels=10\n",
        "model = LukeForSequenceClassification.from_pretrained(model_ckpt, num_labels=num_labels, problem_type=\"multi_label_classification\",ignore_mismatched_sizes=True)"
      ]
    },
    {
      "cell_type": "code",
      "execution_count": null,
      "metadata": {
        "id": "4o_ZGri01D6H"
      },
      "outputs": [],
      "source": [
        "from transformers import (AutoTokenizer, AutoModelForSequenceClassification,\n",
        "                          TrainingArguments, Trainer)"
      ]
    },
    {
      "cell_type": "code",
      "execution_count": null,
      "metadata": {
        "colab": {
          "base_uri": "https://localhost:8080/"
        },
        "id": "13mRYenj1iQS",
        "outputId": "caea009a-314e-4e89-dfc1-c6f53e92cc83"
      },
      "outputs": [
        {
          "data": {
            "text/plain": [
              "LukeForSequenceClassification(\n",
              "  (luke): LukeModel(\n",
              "    (embeddings): LukeEmbeddings(\n",
              "      (word_embeddings): Embedding(50267, 768, padding_idx=1)\n",
              "      (position_embeddings): Embedding(514, 768, padding_idx=1)\n",
              "      (token_type_embeddings): Embedding(1, 768)\n",
              "      (LayerNorm): LayerNorm((768,), eps=1e-05, elementwise_affine=True)\n",
              "      (dropout): Dropout(p=0.1, inplace=False)\n",
              "    )\n",
              "    (entity_embeddings): LukeEntityEmbeddings(\n",
              "      (entity_embeddings): Embedding(500000, 256, padding_idx=0)\n",
              "      (entity_embedding_dense): Linear(in_features=256, out_features=768, bias=False)\n",
              "      (position_embeddings): Embedding(514, 768)\n",
              "      (token_type_embeddings): Embedding(1, 768)\n",
              "      (LayerNorm): LayerNorm((768,), eps=1e-05, elementwise_affine=True)\n",
              "      (dropout): Dropout(p=0.1, inplace=False)\n",
              "    )\n",
              "    (encoder): LukeEncoder(\n",
              "      (layer): ModuleList(\n",
              "        (0-11): 12 x LukeLayer(\n",
              "          (attention): LukeAttention(\n",
              "            (self): LukeSelfAttention(\n",
              "              (query): Linear(in_features=768, out_features=768, bias=True)\n",
              "              (key): Linear(in_features=768, out_features=768, bias=True)\n",
              "              (value): Linear(in_features=768, out_features=768, bias=True)\n",
              "              (w2e_query): Linear(in_features=768, out_features=768, bias=True)\n",
              "              (e2w_query): Linear(in_features=768, out_features=768, bias=True)\n",
              "              (e2e_query): Linear(in_features=768, out_features=768, bias=True)\n",
              "              (dropout): Dropout(p=0.1, inplace=False)\n",
              "            )\n",
              "            (output): LukeSelfOutput(\n",
              "              (dense): Linear(in_features=768, out_features=768, bias=True)\n",
              "              (LayerNorm): LayerNorm((768,), eps=1e-05, elementwise_affine=True)\n",
              "              (dropout): Dropout(p=0.1, inplace=False)\n",
              "            )\n",
              "          )\n",
              "          (intermediate): LukeIntermediate(\n",
              "            (dense): Linear(in_features=768, out_features=3072, bias=True)\n",
              "            (intermediate_act_fn): GELUActivation()\n",
              "          )\n",
              "          (output): LukeOutput(\n",
              "            (dense): Linear(in_features=3072, out_features=768, bias=True)\n",
              "            (LayerNorm): LayerNorm((768,), eps=1e-05, elementwise_affine=True)\n",
              "            (dropout): Dropout(p=0.1, inplace=False)\n",
              "          )\n",
              "        )\n",
              "      )\n",
              "    )\n",
              "    (pooler): LukePooler(\n",
              "      (dense): Linear(in_features=768, out_features=768, bias=True)\n",
              "      (activation): Tanh()\n",
              "    )\n",
              "  )\n",
              "  (dropout): Dropout(p=0.1, inplace=False)\n",
              "  (classifier): Linear(in_features=768, out_features=10, bias=True)\n",
              ")"
            ]
          },
          "execution_count": 22,
          "metadata": {},
          "output_type": "execute_result"
        }
      ],
      "source": [
        "model.to('cuda')"
      ]
    },
    {
      "cell_type": "code",
      "execution_count": null,
      "metadata": {
        "id": "9tJ-fyzjaZXP"
      },
      "outputs": [],
      "source": [
        "# define the arguments\n",
        "batch_size = 4\n",
        "metric_name = \"f1\"\n",
        "\n",
        "args = TrainingArguments(\n",
        "    f\"output\",\n",
        "    evaluation_strategy = \"epoch\",\n",
        "    save_strategy = \"epoch\",\n",
        "    learning_rate=5e-5,\n",
        "    per_device_train_batch_size=batch_size,\n",
        "    per_device_eval_batch_size=batch_size,\n",
        "    num_train_epochs=10,\n",
        "    weight_decay=0.05,\n",
        "    load_best_model_at_end=True,\n",
        "    metric_for_best_model=metric_name,\n",
        ")"
      ]
    },
    {
      "cell_type": "code",
      "execution_count": null,
      "metadata": {
        "id": "Qzr1evZKanGq"
      },
      "outputs": [],
      "source": [
        "# reference: https://jesusleal.io/2021/04/21/Longformer-multilabel-classification/\n",
        "from sklearn.metrics import f1_score, roc_auc_score, accuracy_score,recall_score\n",
        "from transformers import EvalPrediction\n",
        "import sklearn.metrics as skm\n",
        "import torch\n",
        "import json\n",
        "\n",
        "\n",
        "def multi_label_metrics(predictions, labels, threshold=0.6):\n",
        "    # first, apply sigmoid on predictions which are of shape (batch_size, num_labels)\n",
        "    sigmoid = torch.nn.Sigmoid()\n",
        "    probs = sigmoid(torch.Tensor(predictions))\n",
        "    # next, use threshold to turn them into integer predictions\n",
        "    y_pred = np.zeros(probs.shape)\n",
        "    y_pred[np.where(probs >= threshold)] = 1\n",
        "    # finally, compute metrics\n",
        "    y_true = labels\n",
        "    recall=recall_score(y_true, y_pred, average='macro')\n",
        "    f1_micro_average = f1_score(y_true=y_true, y_pred=y_pred, average='micro')\n",
        "    roc_auc = roc_auc_score(y_true, y_pred, average = 'micro')\n",
        "    accuracy = accuracy_score(y_true, y_pred)\n",
        "    # return as dictionary\n",
        "    #matrixes = skm.confusion_matrix(y_true, y_pred)\n",
        "    cm = skm.multilabel_confusion_matrix(y_true, y_pred).tolist()\n",
        "    metrics = {'f1': f1_micro_average,\n",
        "               'roc_auc': roc_auc,\n",
        "               'accuracy': accuracy,\n",
        "               'recall':recall,\n",
        "               'matrixes':cm\n",
        "\n",
        "               }\n",
        "    return metrics\n",
        "\n",
        "def compute_metrics(p: EvalPrediction):\n",
        "    preds = p.predictions[0] if isinstance(p.predictions,\n",
        "            tuple) else p.predictions\n",
        "    result = multi_label_metrics(\n",
        "        predictions=preds,\n",
        "        labels=p.label_ids)\n",
        "    return result"
      ]
    },
    {
      "cell_type": "code",
      "execution_count": null,
      "metadata": {
        "id": "SpSZ3ctUawM-"
      },
      "outputs": [],
      "source": [
        "#define trainer\n",
        "trainer = Trainer(\n",
        "    model=model, args=args,\n",
        "    train_dataset=ds_enc[\"train\"],\n",
        "    eval_dataset=ds_enc[\"validation\"],\n",
        "    tokenizer=tokenizer,\n",
        "    compute_metrics=compute_metrics\n",
        ")\n"
      ]
    },
    {
      "cell_type": "code",
      "execution_count": null,
      "metadata": {
        "colab": {
          "base_uri": "https://localhost:8080/",
          "height": 396
        },
        "id": "0GuML-AaeIda",
        "outputId": "de06c73f-fd69-4afa-9f7d-1d50e9354d1a"
      },
      "outputs": [
        {
          "data": {
            "text/html": [
              "\n",
              "    <div>\n",
              "      \n",
              "      <progress value='250' max='250' style='width:300px; height:20px; vertical-align: middle;'></progress>\n",
              "      [250/250 00:34]\n",
              "    </div>\n",
              "    "
            ],
            "text/plain": [
              "<IPython.core.display.HTML object>"
            ]
          },
          "metadata": {},
          "output_type": "display_data"
        },
        {
          "name": "stderr",
          "output_type": "stream",
          "text": [
            "Trainer is attempting to log a value of \"[[[943, 0], [57, 0]], [[807, 0], [193, 0]], [[813, 0], [187, 0]], [[700, 0], [300, 0]], [[913, 0], [87, 0]], [[996, 0], [4, 0]], [[958, 0], [42, 0]], [[967, 0], [33, 0]], [[982, 0], [18, 0]], [[861, 0], [139, 0]]]\" of type <class 'list'> for key \"eval/matrixes\" as a scalar. This invocation of Tensorboard's writer.add_scalar() is incorrect so we dropped this attribute.\n"
          ]
        },
        {
          "data": {
            "text/plain": [
              "{'eval_loss': 0.6860754489898682,\n",
              " 'eval_f1': 0.0,\n",
              " 'eval_roc_auc': 0.5,\n",
              " 'eval_accuracy': 0.175,\n",
              " 'eval_recall': 0.0,\n",
              " 'eval_matrixes': [[[943, 0], [57, 0]],\n",
              "  [[807, 0], [193, 0]],\n",
              "  [[813, 0], [187, 0]],\n",
              "  [[700, 0], [300, 0]],\n",
              "  [[913, 0], [87, 0]],\n",
              "  [[996, 0], [4, 0]],\n",
              "  [[958, 0], [42, 0]],\n",
              "  [[967, 0], [33, 0]],\n",
              "  [[982, 0], [18, 0]],\n",
              "  [[861, 0], [139, 0]]],\n",
              " 'eval_runtime': 35.4646,\n",
              " 'eval_samples_per_second': 28.197,\n",
              " 'eval_steps_per_second': 7.049}"
            ]
          },
          "execution_count": 27,
          "metadata": {},
          "output_type": "execute_result"
        }
      ],
      "source": [
        "trainer.evaluate()"
      ]
    },
    {
      "cell_type": "code",
      "execution_count": null,
      "metadata": {
        "colab": {
          "background_save": true,
          "base_uri": "https://localhost:8080/",
          "height": 148
        },
        "id": "FNFNoMhsaZap",
        "outputId": "d6c31f13-9564-49ff-ba60-0b3370b742f9"
      },
      "outputs": [
        {
          "name": "stderr",
          "output_type": "stream",
          "text": [
            "/usr/local/lib/python3.10/dist-packages/transformers/optimization.py:411: FutureWarning: This implementation of AdamW is deprecated and will be removed in a future version. Use the PyTorch implementation torch.optim.AdamW instead, or set `no_deprecation_warning=True` to disable this warning\n",
            "  warnings.warn(\n"
          ]
        },
        {
          "data": {
            "text/html": [
              "\n",
              "    <div>\n",
              "      \n",
              "      <progress value='22500' max='22500' style='width:300px; height:20px; vertical-align: middle;'></progress>\n",
              "      [22500/22500 2:50:39, Epoch 10/10]\n",
              "    </div>\n",
              "    <table border=\"1\" class=\"dataframe\">\n",
              "  <thead>\n",
              " <tr style=\"text-align: left;\">\n",
              "      <th>Epoch</th>\n",
              "      <th>Training Loss</th>\n",
              "      <th>Validation Loss</th>\n",
              "      <th>F1</th>\n",
              "      <th>Roc Auc</th>\n",
              "      <th>Accuracy</th>\n",
              "      <th>Recall</th>\n",
              "      <th>Matrixes</th>\n",
              "    </tr>\n",
              "  </thead>\n",
              "  <tbody>\n",
              "    <tr>\n",
              "      <td>1</td>\n",
              "      <td>0.174700</td>\n",
              "      <td>0.208563</td>\n",
              "      <td>0.458623</td>\n",
              "      <td>0.662278</td>\n",
              "      <td>0.370000</td>\n",
              "      <td>0.168532</td>\n",
              "      <td>[[[942, 1], [48, 9]], [[792, 15], [114, 79]], [[792, 21], [110, 77]], [[587, 113], [114, 186]], [[913, 0], [87, 0]], [[996, 0], [4, 0]], [[958, 0], [42, 0]], [[961, 6], [33, 0]], [[982, 0], [18, 0]], [[857, 4], [127, 12]]]</td>\n",
              "    </tr>\n",
              "    <tr>\n",
              "      <td>2</td>\n",
              "      <td>0.149500</td>\n",
              "      <td>0.189499</td>\n",
              "      <td>0.607497</td>\n",
              "      <td>0.748552</td>\n",
              "      <td>0.486000</td>\n",
              "      <td>0.388170</td>\n",
              "      <td>[[[941, 2], [44, 13]], [[766, 41], [73, 120]], [[778, 35], [78, 109]], [[644, 56], [126, 174]], [[888, 25], [59, 28]], [[996, 0], [3, 1]], [[931, 27], [14, 28]], [[967, 0], [30, 3]], [[982, 0], [18, 0]], [[844, 17], [64, 75]]]</td>\n",
              "    </tr>\n",
              "    <tr>\n",
              "      <td>3</td>\n",
              "      <td>0.140600</td>\n",
              "      <td>0.173464</td>\n",
              "      <td>0.630786</td>\n",
              "      <td>0.764558</td>\n",
              "      <td>0.509000</td>\n",
              "      <td>0.458008</td>\n",
              "      <td>[[[919, 24], [9, 48]], [[772, 35], [84, 109]], [[781, 32], [75, 112]], [[663, 37], [144, 156]], [[904, 9], [73, 14]], [[996, 0], [3, 1]], [[939, 19], [23, 19]], [[964, 3], [21, 12]], [[982, 0], [18, 0]], [[808, 53], [24, 115]]]</td>\n",
              "    </tr>\n",
              "    <tr>\n",
              "      <td>4</td>\n",
              "      <td>0.124900</td>\n",
              "      <td>0.179513</td>\n",
              "      <td>0.658848</td>\n",
              "      <td>0.790455</td>\n",
              "      <td>0.519000</td>\n",
              "      <td>0.518202</td>\n",
              "      <td>[[[926, 17], [15, 42]], [[760, 47], [58, 135]], [[765, 48], [53, 134]], [[640, 60], [121, 179]], [[883, 30], [58, 29]], [[993, 3], [2, 2]], [[941, 17], [21, 21]], [[966, 1], [22, 11]], [[981, 1], [16, 2]], [[830, 31], [48, 91]]]</td>\n",
              "    </tr>\n",
              "    <tr>\n",
              "      <td>5</td>\n",
              "      <td>0.113500</td>\n",
              "      <td>0.180609</td>\n",
              "      <td>0.679189</td>\n",
              "      <td>0.808620</td>\n",
              "      <td>0.537000</td>\n",
              "      <td>0.571018</td>\n",
              "      <td>[[[931, 12], [16, 41]], [[777, 30], [74, 119]], [[759, 54], [53, 134]], [[636, 64], [109, 191]], [[874, 39], [51, 36]], [[995, 1], [2, 2]], [[938, 20], [14, 28]], [[964, 3], [13, 20]], [[982, 0], [18, 0]], [[808, 53], [23, 116]]]</td>\n",
              "    </tr>\n",
              "    <tr>\n",
              "      <td>6</td>\n",
              "      <td>0.094900</td>\n",
              "      <td>0.193980</td>\n",
              "      <td>0.674201</td>\n",
              "      <td>0.807422</td>\n",
              "      <td>0.522000</td>\n",
              "      <td>0.547063</td>\n",
              "      <td>[[[927, 16], [12, 45]], [[762, 45], [60, 133]], [[770, 43], [64, 123]], [[620, 80], [107, 193]], [[872, 41], [52, 35]], [[995, 1], [4, 0]], [[936, 22], [17, 25]], [[960, 7], [5, 28]], [[981, 1], [16, 2]], [[828, 33], [37, 102]]]</td>\n",
              "    </tr>\n",
              "    <tr>\n",
              "      <td>7</td>\n",
              "      <td>0.070500</td>\n",
              "      <td>0.215985</td>\n",
              "      <td>0.673913</td>\n",
              "      <td>0.805926</td>\n",
              "      <td>0.516000</td>\n",
              "      <td>0.586589</td>\n",
              "      <td>[[[928, 15], [14, 43]], [[767, 40], [63, 130]], [[781, 32], [69, 118]], [[604, 96], [104, 196]], [[869, 44], [44, 43]], [[995, 1], [3, 1]], [[943, 15], [16, 26]], [[961, 6], [7, 26]], [[978, 4], [12, 6]], [[832, 29], [46, 93]]]</td>\n",
              "    </tr>\n",
              "    <tr>\n",
              "      <td>8</td>\n",
              "      <td>0.057100</td>\n",
              "      <td>0.243907</td>\n",
              "      <td>0.674473</td>\n",
              "      <td>0.819768</td>\n",
              "      <td>0.504000</td>\n",
              "      <td>0.572677</td>\n",
              "      <td>[[[928, 15], [14, 43]], [[742, 65], [50, 143]], [[755, 58], [49, 138]], [[575, 125], [80, 220]], [[865, 48], [53, 34]], [[996, 0], [3, 1]], [[944, 14], [19, 23]], [[963, 4], [8, 25]], [[978, 4], [15, 3]], [[839, 22], [49, 90]]]</td>\n",
              "    </tr>\n",
              "    <tr>\n",
              "      <td>9</td>\n",
              "      <td>0.046900</td>\n",
              "      <td>0.250432</td>\n",
              "      <td>0.683063</td>\n",
              "      <td>0.827092</td>\n",
              "      <td>0.510000</td>\n",
              "      <td>0.583084</td>\n",
              "      <td>[[[928, 15], [15, 42]], [[734, 73], [37, 156]], [[765, 48], [57, 130]], [[582, 118], [80, 220]], [[866, 47], [49, 38]], [[996, 0], [3, 1]], [[941, 17], [18, 24]], [[963, 4], [9, 24]], [[979, 3], [15, 3]], [[827, 34], [41, 98]]]</td>\n",
              "    </tr>\n",
              "    <tr>\n",
              "      <td>10</td>\n",
              "      <td>0.032800</td>\n",
              "      <td>0.256658</td>\n",
              "      <td>0.674905</td>\n",
              "      <td>0.816226</td>\n",
              "      <td>0.503000</td>\n",
              "      <td>0.578852</td>\n",
              "      <td>[[[926, 17], [16, 41]], [[749, 58], [49, 144]], [[774, 39], [67, 120]], [[586, 114], [82, 218]], [[865, 48], [51, 36]], [[995, 1], [3, 1]], [[942, 16], [17, 25]], [[963, 4], [9, 24]], [[977, 5], [13, 5]], [[829, 32], [43, 96]]]</td>\n",
              "    </tr>\n",
              "  </tbody>\n",
              "</table><p>"
            ],
            "text/plain": [
              "<IPython.core.display.HTML object>"
            ]
          },
          "metadata": {},
          "output_type": "display_data"
        },
        {
          "data": {
            "text/html": [
              "\n",
              "    <div>\n",
              "      \n",
              "      <progress value='500' max='250' style='width:300px; height:20px; vertical-align: middle;'></progress>\n",
              "      [250/250 17:30]\n",
              "    </div>\n",
              "    "
            ],
            "text/plain": [
              "<IPython.core.display.HTML object>"
            ]
          },
          "metadata": {},
          "output_type": "display_data"
        },
        {
          "name": "stderr",
          "output_type": "stream",
          "text": [
            "Trainer is attempting to log a value of \"[[[942, 1], [48, 9]], [[792, 15], [114, 79]], [[792, 21], [110, 77]], [[587, 113], [114, 186]], [[913, 0], [87, 0]], [[996, 0], [4, 0]], [[958, 0], [42, 0]], [[961, 6], [33, 0]], [[982, 0], [18, 0]], [[857, 4], [127, 12]]]\" of type <class 'list'> for key \"eval/matrixes\" as a scalar. This invocation of Tensorboard's writer.add_scalar() is incorrect so we dropped this attribute.\n",
            "Trainer is attempting to log a value of \"[[[941, 2], [44, 13]], [[766, 41], [73, 120]], [[778, 35], [78, 109]], [[644, 56], [126, 174]], [[888, 25], [59, 28]], [[996, 0], [3, 1]], [[931, 27], [14, 28]], [[967, 0], [30, 3]], [[982, 0], [18, 0]], [[844, 17], [64, 75]]]\" of type <class 'list'> for key \"eval/matrixes\" as a scalar. This invocation of Tensorboard's writer.add_scalar() is incorrect so we dropped this attribute.\n",
            "Trainer is attempting to log a value of \"[[[919, 24], [9, 48]], [[772, 35], [84, 109]], [[781, 32], [75, 112]], [[663, 37], [144, 156]], [[904, 9], [73, 14]], [[996, 0], [3, 1]], [[939, 19], [23, 19]], [[964, 3], [21, 12]], [[982, 0], [18, 0]], [[808, 53], [24, 115]]]\" of type <class 'list'> for key \"eval/matrixes\" as a scalar. This invocation of Tensorboard's writer.add_scalar() is incorrect so we dropped this attribute.\n",
            "Trainer is attempting to log a value of \"[[[926, 17], [15, 42]], [[760, 47], [58, 135]], [[765, 48], [53, 134]], [[640, 60], [121, 179]], [[883, 30], [58, 29]], [[993, 3], [2, 2]], [[941, 17], [21, 21]], [[966, 1], [22, 11]], [[981, 1], [16, 2]], [[830, 31], [48, 91]]]\" of type <class 'list'> for key \"eval/matrixes\" as a scalar. This invocation of Tensorboard's writer.add_scalar() is incorrect so we dropped this attribute.\n",
            "Trainer is attempting to log a value of \"[[[931, 12], [16, 41]], [[777, 30], [74, 119]], [[759, 54], [53, 134]], [[636, 64], [109, 191]], [[874, 39], [51, 36]], [[995, 1], [2, 2]], [[938, 20], [14, 28]], [[964, 3], [13, 20]], [[982, 0], [18, 0]], [[808, 53], [23, 116]]]\" of type <class 'list'> for key \"eval/matrixes\" as a scalar. This invocation of Tensorboard's writer.add_scalar() is incorrect so we dropped this attribute.\n",
            "Trainer is attempting to log a value of \"[[[927, 16], [12, 45]], [[762, 45], [60, 133]], [[770, 43], [64, 123]], [[620, 80], [107, 193]], [[872, 41], [52, 35]], [[995, 1], [4, 0]], [[936, 22], [17, 25]], [[960, 7], [5, 28]], [[981, 1], [16, 2]], [[828, 33], [37, 102]]]\" of type <class 'list'> for key \"eval/matrixes\" as a scalar. This invocation of Tensorboard's writer.add_scalar() is incorrect so we dropped this attribute.\n",
            "Trainer is attempting to log a value of \"[[[928, 15], [14, 43]], [[767, 40], [63, 130]], [[781, 32], [69, 118]], [[604, 96], [104, 196]], [[869, 44], [44, 43]], [[995, 1], [3, 1]], [[943, 15], [16, 26]], [[961, 6], [7, 26]], [[978, 4], [12, 6]], [[832, 29], [46, 93]]]\" of type <class 'list'> for key \"eval/matrixes\" as a scalar. This invocation of Tensorboard's writer.add_scalar() is incorrect so we dropped this attribute.\n",
            "Trainer is attempting to log a value of \"[[[928, 15], [14, 43]], [[742, 65], [50, 143]], [[755, 58], [49, 138]], [[575, 125], [80, 220]], [[865, 48], [53, 34]], [[996, 0], [3, 1]], [[944, 14], [19, 23]], [[963, 4], [8, 25]], [[978, 4], [15, 3]], [[839, 22], [49, 90]]]\" of type <class 'list'> for key \"eval/matrixes\" as a scalar. This invocation of Tensorboard's writer.add_scalar() is incorrect so we dropped this attribute.\n",
            "Trainer is attempting to log a value of \"[[[928, 15], [15, 42]], [[734, 73], [37, 156]], [[765, 48], [57, 130]], [[582, 118], [80, 220]], [[866, 47], [49, 38]], [[996, 0], [3, 1]], [[941, 17], [18, 24]], [[963, 4], [9, 24]], [[979, 3], [15, 3]], [[827, 34], [41, 98]]]\" of type <class 'list'> for key \"eval/matrixes\" as a scalar. This invocation of Tensorboard's writer.add_scalar() is incorrect so we dropped this attribute.\n",
            "Trainer is attempting to log a value of \"[[[926, 17], [16, 41]], [[749, 58], [49, 144]], [[774, 39], [67, 120]], [[586, 114], [82, 218]], [[865, 48], [51, 36]], [[995, 1], [3, 1]], [[942, 16], [17, 25]], [[963, 4], [9, 24]], [[977, 5], [13, 5]], [[829, 32], [43, 96]]]\" of type <class 'list'> for key \"eval/matrixes\" as a scalar. This invocation of Tensorboard's writer.add_scalar() is incorrect so we dropped this attribute.\n"
          ]
        },
        {
          "data": {
            "text/plain": [
              "TrainOutput(global_step=22500, training_loss=0.10086548139784071, metrics={'train_runtime': 10239.5417, 'train_samples_per_second': 8.789, 'train_steps_per_second': 2.197, 'total_flos': 2.960831776044691e+16, 'train_loss': 0.10086548139784071, 'epoch': 10.0})"
            ]
          },
          "execution_count": 28,
          "metadata": {},
          "output_type": "execute_result"
        }
      ],
      "source": [
        "import torch\n",
        "torch.cuda.empty_cache()\n",
        "trainer.train()"
      ]
    },
    {
      "cell_type": "code",
      "execution_count": null,
      "metadata": {
        "colab": {
          "background_save": true
        },
        "id": "TheOTvvB47gO",
        "outputId": "5d528941-fba2-4413-ea05-012c7d9e348a"
      },
      "outputs": [
        {
          "data": {
            "text/html": [
              "\n",
              "    <div>\n",
              "      \n",
              "      <progress value='250' max='250' style='width:300px; height:20px; vertical-align: middle;'></progress>\n",
              "      [250/250 00:36]\n",
              "    </div>\n",
              "    "
            ],
            "text/plain": [
              "<IPython.core.display.HTML object>"
            ]
          },
          "metadata": {},
          "output_type": "display_data"
        },
        {
          "name": "stderr",
          "output_type": "stream",
          "text": [
            "Trainer is attempting to log a value of \"[[[928, 15], [15, 42]], [[734, 73], [37, 156]], [[765, 48], [57, 130]], [[582, 118], [80, 220]], [[866, 47], [49, 38]], [[996, 0], [3, 1]], [[941, 17], [18, 24]], [[963, 4], [9, 24]], [[979, 3], [15, 3]], [[827, 34], [41, 98]]]\" of type <class 'list'> for key \"eval/matrixes\" as a scalar. This invocation of Tensorboard's writer.add_scalar() is incorrect so we dropped this attribute.\n"
          ]
        }
      ],
      "source": [
        "x=trainer.evaluate()"
      ]
    },
    {
      "cell_type": "code",
      "execution_count": null,
      "metadata": {
        "colab": {
          "background_save": true
        },
        "id": "H1uqdruM7hiO",
        "outputId": "7c07e97d-2b20-4458-a829-e19ecc2b6fc1"
      },
      "outputs": [
        {
          "data": {
            "image/png": "[encoded data removed]",
            "text/plain": [
              "<Figure size 1500x600 with 20 Axes>"
            ]
          },
          "metadata": {},
          "output_type": "display_data"
        }
      ],
      "source": [
        "import numpy as np\n",
        "import seaborn as sns\n",
        "import matplotlib.pyplot as plt\n",
        "\n",
        "confusion_matrices = x['eval_matrixes']\n",
        "\n",
        "labels = ['Positive', 'Negative']\n",
        "\n",
        "fig, axs = plt.subplots(2, 5, figsize=(15, 6))\n",
        "for i, ax in enumerate(axs.flatten()):\n",
        "    sns.heatmap(confusion_matrices[i], annot=True, fmt='d', cmap='Blues', xticklabels=labels, yticklabels=labels, ax=ax)\n",
        "    ax.set_title(f'Confusion Matrix {i+1}')\n",
        "    ax.set_xlabel('Predicted Label')\n",
        "    ax.set_ylabel('Actual Label')\n",
        "\n",
        "plt.tight_layout()\n",
        "plt.show()\n",
        "\n"
      ]
    }
  ],
  "metadata": {
    "accelerator": "GPU",
    "colab": {
      "machine_shape": "hm",
      "provenance": [],
      "include_colab_link": true
    },
    "kernelspec": {
      "display_name": "Python 3",
      "name": "python3"
    },
    "language_info": {
      "codemirror_mode": {
        "name": "ipython",
        "version": 3
      },
      "file_extension": ".py",
      "mimetype": "text/x-python",
      "name": "python",
      "nbconvert_exporter": "python",
      "pygments_lexer": "ipython3",
      "version": "3.10.6"
    },
    "widgets": {
      "application/vnd.jupyter.widget-state+json": {
        "07ae0784f17c40ec938c39f72d6f37c8": {
          "model_module": "@jupyter-widgets/controls",
          "model_module_version": "1.5.0",
          "model_name": "FloatProgressModel",
          "state": {
            "_dom_classes": [],
            "_model_module": "@jupyter-widgets/controls",
            "_model_module_version": "1.5.0",
            "_model_name": "FloatProgressModel",
            "_view_count": null,
            "_view_module": "@jupyter-widgets/controls",
            "_view_module_version": "1.5.0",
            "_view_name": "ProgressView",
            "bar_style": "success",
            "description": "",
            "description_tooltip": null,
            "layout": "IPY_MODEL_c607dc00d9074ae0b2ae0ebe5d487beb",
            "max": 1000,
            "min": 0,
            "orientation": "horizontal",
            "style": "IPY_MODEL_ec004315298c43dfa0a07548b67f5e91",
            "value": 1000
          }
        },
        "160e88fdcf5a413eab10bd1c13c7e340": {
          "model_module": "@jupyter-widgets/controls",
          "model_module_version": "1.5.0",
          "model_name": "DescriptionStyleModel",
          "state": {
            "_model_module": "@jupyter-widgets/controls",
            "_model_module_version": "1.5.0",
            "_model_name": "DescriptionStyleModel",
            "_view_count": null,
            "_view_module": "@jupyter-widgets/base",
            "_view_module_version": "1.2.0",
            "_view_name": "StyleView",
            "description_width": ""
          }
        },
        "1832025d1a604c5b88621e32ad70a990": {
          "model_module": "@jupyter-widgets/controls",
          "model_module_version": "1.5.0",
          "model_name": "HTMLModel",
          "state": {
            "_dom_classes": [],
            "_model_module": "@jupyter-widgets/controls",
            "_model_module_version": "1.5.0",
            "_model_name": "HTMLModel",
            "_view_count": null,
            "_view_module": "@jupyter-widgets/controls",
            "_view_module_version": "1.5.0",
            "_view_name": "HTMLView",
            "description": "",
            "description_tooltip": null,
            "layout": "IPY_MODEL_f14206d18dcb49cba1102f866fa54539",
            "placeholder": "​",
            "style": "IPY_MODEL_423d762d61b64ae7bca35310303766b5",
            "value": " 1000/1000 [00:11&lt;00:00, 86.93 examples/s]"
          }
        },
        "423d762d61b64ae7bca35310303766b5": {
          "model_module": "@jupyter-widgets/controls",
          "model_module_version": "1.5.0",
          "model_name": "DescriptionStyleModel",
          "state": {
            "_model_module": "@jupyter-widgets/controls",
            "_model_module_version": "1.5.0",
            "_model_name": "DescriptionStyleModel",
            "_view_count": null,
            "_view_module": "@jupyter-widgets/base",
            "_view_module_version": "1.2.0",
            "_view_name": "StyleView",
            "description_width": ""
          }
        },
        "4b66589afb5e4b0c8bde4d2f1dc73469": {
          "model_module": "@jupyter-widgets/base",
          "model_module_version": "1.2.0",
          "model_name": "LayoutModel",
          "state": {
            "_model_module": "@jupyter-widgets/base",
            "_model_module_version": "1.2.0",
            "_model_name": "LayoutModel",
            "_view_count": null,
            "_view_module": "@jupyter-widgets/base",
            "_view_module_version": "1.2.0",
            "_view_name": "LayoutView",
            "align_content": null,
            "align_items": null,
            "align_self": null,
            "border": null,
            "bottom": null,
            "display": null,
            "flex": null,
            "flex_flow": null,
            "grid_area": null,
            "grid_auto_columns": null,
            "grid_auto_flow": null,
            "grid_auto_rows": null,
            "grid_column": null,
            "grid_gap": null,
            "grid_row": null,
            "grid_template_areas": null,
            "grid_template_columns": null,
            "grid_template_rows": null,
            "height": null,
            "justify_content": null,
            "justify_items": null,
            "left": null,
            "margin": null,
            "max_height": null,
            "max_width": null,
            "min_height": null,
            "min_width": null,
            "object_fit": null,
            "object_position": null,
            "order": null,
            "overflow": null,
            "overflow_x": null,
            "overflow_y": null,
            "padding": null,
            "right": null,
            "top": null,
            "visibility": null,
            "width": null
          }
        },
        "4d4cd5c3061f4d5bbd67547b4840bcc8": {
          "model_module": "@jupyter-widgets/controls",
          "model_module_version": "1.5.0",
          "model_name": "HTMLModel",
          "state": {
            "_dom_classes": [],
            "_model_module": "@jupyter-widgets/controls",
            "_model_module_version": "1.5.0",
            "_model_name": "HTMLModel",
            "_view_count": null,
            "_view_module": "@jupyter-widgets/controls",
            "_view_module_version": "1.5.0",
            "_view_name": "HTMLView",
            "description": "",
            "description_tooltip": null,
            "layout": "IPY_MODEL_65c4a9648bc24433a7dba9b6cd3b98ae",
            "placeholder": "​",
            "style": "IPY_MODEL_66d0a9f19e74410b8fe7a85393b3b642",
            "value": "Map: 100%"
          }
        },
        "65c4a9648bc24433a7dba9b6cd3b98ae": {
          "model_module": "@jupyter-widgets/base",
          "model_module_version": "1.2.0",
          "model_name": "LayoutModel",
          "state": {
            "_model_module": "@jupyter-widgets/base",
            "_model_module_version": "1.2.0",
            "_model_name": "LayoutModel",
            "_view_count": null,
            "_view_module": "@jupyter-widgets/base",
            "_view_module_version": "1.2.0",
            "_view_name": "LayoutView",
            "align_content": null,
            "align_items": null,
            "align_self": null,
            "border": null,
            "bottom": null,
            "display": null,
            "flex": null,
            "flex_flow": null,
            "grid_area": null,
            "grid_auto_columns": null,
            "grid_auto_flow": null,
            "grid_auto_rows": null,
            "grid_column": null,
            "grid_gap": null,
            "grid_row": null,
            "grid_template_areas": null,
            "grid_template_columns": null,
            "grid_template_rows": null,
            "height": null,
            "justify_content": null,
            "justify_items": null,
            "left": null,
            "margin": null,
            "max_height": null,
            "max_width": null,
            "min_height": null,
            "min_width": null,
            "object_fit": null,
            "object_position": null,
            "order": null,
            "overflow": null,
            "overflow_x": null,
            "overflow_y": null,
            "padding": null,
            "right": null,
            "top": null,
            "visibility": null,
            "width": null
          }
        },
        "66d0a9f19e74410b8fe7a85393b3b642": {
          "model_module": "@jupyter-widgets/controls",
          "model_module_version": "1.5.0",
          "model_name": "DescriptionStyleModel",
          "state": {
            "_model_module": "@jupyter-widgets/controls",
            "_model_module_version": "1.5.0",
            "_model_name": "DescriptionStyleModel",
            "_view_count": null,
            "_view_module": "@jupyter-widgets/base",
            "_view_module_version": "1.2.0",
            "_view_name": "StyleView",
            "description_width": ""
          }
        },
        "887d4fc14fb341f7beff7f06402d822e": {
          "model_module": "@jupyter-widgets/base",
          "model_module_version": "1.2.0",
          "model_name": "LayoutModel",
          "state": {
            "_model_module": "@jupyter-widgets/base",
            "_model_module_version": "1.2.0",
            "_model_name": "LayoutModel",
            "_view_count": null,
            "_view_module": "@jupyter-widgets/base",
            "_view_module_version": "1.2.0",
            "_view_name": "LayoutView",
            "align_content": null,
            "align_items": null,
            "align_self": null,
            "border": null,
            "bottom": null,
            "display": null,
            "flex": null,
            "flex_flow": null,
            "grid_area": null,
            "grid_auto_columns": null,
            "grid_auto_flow": null,
            "grid_auto_rows": null,
            "grid_column": null,
            "grid_gap": null,
            "grid_row": null,
            "grid_template_areas": null,
            "grid_template_columns": null,
            "grid_template_rows": null,
            "height": null,
            "justify_content": null,
            "justify_items": null,
            "left": null,
            "margin": null,
            "max_height": null,
            "max_width": null,
            "min_height": null,
            "min_width": null,
            "object_fit": null,
            "object_position": null,
            "order": null,
            "overflow": null,
            "overflow_x": null,
            "overflow_y": null,
            "padding": null,
            "right": null,
            "top": null,
            "visibility": null,
            "width": null
          }
        },
        "8dffb4b258374ab891c35bc41af319ab": {
          "model_module": "@jupyter-widgets/controls",
          "model_module_version": "1.5.0",
          "model_name": "ProgressStyleModel",
          "state": {
            "_model_module": "@jupyter-widgets/controls",
            "_model_module_version": "1.5.0",
            "_model_name": "ProgressStyleModel",
            "_view_count": null,
            "_view_module": "@jupyter-widgets/base",
            "_view_module_version": "1.2.0",
            "_view_name": "StyleView",
            "bar_color": null,
            "description_width": ""
          }
        },
        "a0bc896118554b4e8f7d19eb57f2298b": {
          "model_module": "@jupyter-widgets/base",
          "model_module_version": "1.2.0",
          "model_name": "LayoutModel",
          "state": {
            "_model_module": "@jupyter-widgets/base",
            "_model_module_version": "1.2.0",
            "_model_name": "LayoutModel",
            "_view_count": null,
            "_view_module": "@jupyter-widgets/base",
            "_view_module_version": "1.2.0",
            "_view_name": "LayoutView",
            "align_content": null,
            "align_items": null,
            "align_self": null,
            "border": null,
            "bottom": null,
            "display": null,
            "flex": null,
            "flex_flow": null,
            "grid_area": null,
            "grid_auto_columns": null,
            "grid_auto_flow": null,
            "grid_auto_rows": null,
            "grid_column": null,
            "grid_gap": null,
            "grid_row": null,
            "grid_template_areas": null,
            "grid_template_columns": null,
            "grid_template_rows": null,
            "height": null,
            "justify_content": null,
            "justify_items": null,
            "left": null,
            "margin": null,
            "max_height": null,
            "max_width": null,
            "min_height": null,
            "min_width": null,
            "object_fit": null,
            "object_position": null,
            "order": null,
            "overflow": null,
            "overflow_x": null,
            "overflow_y": null,
            "padding": null,
            "right": null,
            "top": null,
            "visibility": null,
            "width": null
          }
        },
        "a886731d4a4347bd86fad3846151f521": {
          "model_module": "@jupyter-widgets/base",
          "model_module_version": "1.2.0",
          "model_name": "LayoutModel",
          "state": {
            "_model_module": "@jupyter-widgets/base",
            "_model_module_version": "1.2.0",
            "_model_name": "LayoutModel",
            "_view_count": null,
            "_view_module": "@jupyter-widgets/base",
            "_view_module_version": "1.2.0",
            "_view_name": "LayoutView",
            "align_content": null,
            "align_items": null,
            "align_self": null,
            "border": null,
            "bottom": null,
            "display": null,
            "flex": null,
            "flex_flow": null,
            "grid_area": null,
            "grid_auto_columns": null,
            "grid_auto_flow": null,
            "grid_auto_rows": null,
            "grid_column": null,
            "grid_gap": null,
            "grid_row": null,
            "grid_template_areas": null,
            "grid_template_columns": null,
            "grid_template_rows": null,
            "height": null,
            "justify_content": null,
            "justify_items": null,
            "left": null,
            "margin": null,
            "max_height": null,
            "max_width": null,
            "min_height": null,
            "min_width": null,
            "object_fit": null,
            "object_position": null,
            "order": null,
            "overflow": null,
            "overflow_x": null,
            "overflow_y": null,
            "padding": null,
            "right": null,
            "top": null,
            "visibility": null,
            "width": null
          }
        },
        "af03d8454e5d467d8fd06e5445e62826": {
          "model_module": "@jupyter-widgets/controls",
          "model_module_version": "1.5.0",
          "model_name": "HTMLModel",
          "state": {
            "_dom_classes": [],
            "_model_module": "@jupyter-widgets/controls",
            "_model_module_version": "1.5.0",
            "_model_name": "HTMLModel",
            "_view_count": null,
            "_view_module": "@jupyter-widgets/controls",
            "_view_module_version": "1.5.0",
            "_view_name": "HTMLView",
            "description": "",
            "description_tooltip": null,
            "layout": "IPY_MODEL_887d4fc14fb341f7beff7f06402d822e",
            "placeholder": "​",
            "style": "IPY_MODEL_160e88fdcf5a413eab10bd1c13c7e340",
            "value": " 1000/1000 [00:13&lt;00:00, 72.71 examples/s]"
          }
        },
        "b565bb86a61246058c025628195c6a88": {
          "model_module": "@jupyter-widgets/controls",
          "model_module_version": "1.5.0",
          "model_name": "HBoxModel",
          "state": {
            "_dom_classes": [],
            "_model_module": "@jupyter-widgets/controls",
            "_model_module_version": "1.5.0",
            "_model_name": "HBoxModel",
            "_view_count": null,
            "_view_module": "@jupyter-widgets/controls",
            "_view_module_version": "1.5.0",
            "_view_name": "HBoxView",
            "box_style": "",
            "children": [
              "IPY_MODEL_de6fa7e634dc423d9a63eed5e14a07ce",
              "IPY_MODEL_f837e724843a4950aa8e65b3eacb9547",
              "IPY_MODEL_1832025d1a604c5b88621e32ad70a990"
            ],
            "layout": "IPY_MODEL_d121f470828e40d69ed3e013b8ac5658"
          }
        },
        "c607dc00d9074ae0b2ae0ebe5d487beb": {
          "model_module": "@jupyter-widgets/base",
          "model_module_version": "1.2.0",
          "model_name": "LayoutModel",
          "state": {
            "_model_module": "@jupyter-widgets/base",
            "_model_module_version": "1.2.0",
            "_model_name": "LayoutModel",
            "_view_count": null,
            "_view_module": "@jupyter-widgets/base",
            "_view_module_version": "1.2.0",
            "_view_name": "LayoutView",
            "align_content": null,
            "align_items": null,
            "align_self": null,
            "border": null,
            "bottom": null,
            "display": null,
            "flex": null,
            "flex_flow": null,
            "grid_area": null,
            "grid_auto_columns": null,
            "grid_auto_flow": null,
            "grid_auto_rows": null,
            "grid_column": null,
            "grid_gap": null,
            "grid_row": null,
            "grid_template_areas": null,
            "grid_template_columns": null,
            "grid_template_rows": null,
            "height": null,
            "justify_content": null,
            "justify_items": null,
            "left": null,
            "margin": null,
            "max_height": null,
            "max_width": null,
            "min_height": null,
            "min_width": null,
            "object_fit": null,
            "object_position": null,
            "order": null,
            "overflow": null,
            "overflow_x": null,
            "overflow_y": null,
            "padding": null,
            "right": null,
            "top": null,
            "visibility": null,
            "width": null
          }
        },
        "cadcbe07c8414038b3ef7617a7651be1": {
          "model_module": "@jupyter-widgets/controls",
          "model_module_version": "1.5.0",
          "model_name": "HBoxModel",
          "state": {
            "_dom_classes": [],
            "_model_module": "@jupyter-widgets/controls",
            "_model_module_version": "1.5.0",
            "_model_name": "HBoxModel",
            "_view_count": null,
            "_view_module": "@jupyter-widgets/controls",
            "_view_module_version": "1.5.0",
            "_view_name": "HBoxView",
            "box_style": "",
            "children": [
              "IPY_MODEL_4d4cd5c3061f4d5bbd67547b4840bcc8",
              "IPY_MODEL_07ae0784f17c40ec938c39f72d6f37c8",
              "IPY_MODEL_af03d8454e5d467d8fd06e5445e62826"
            ],
            "layout": "IPY_MODEL_a886731d4a4347bd86fad3846151f521"
          }
        },
        "d121f470828e40d69ed3e013b8ac5658": {
          "model_module": "@jupyter-widgets/base",
          "model_module_version": "1.2.0",
          "model_name": "LayoutModel",
          "state": {
            "_model_module": "@jupyter-widgets/base",
            "_model_module_version": "1.2.0",
            "_model_name": "LayoutModel",
            "_view_count": null,
            "_view_module": "@jupyter-widgets/base",
            "_view_module_version": "1.2.0",
            "_view_name": "LayoutView",
            "align_content": null,
            "align_items": null,
            "align_self": null,
            "border": null,
            "bottom": null,
            "display": null,
            "flex": null,
            "flex_flow": null,
            "grid_area": null,
            "grid_auto_columns": null,
            "grid_auto_flow": null,
            "grid_auto_rows": null,
            "grid_column": null,
            "grid_gap": null,
            "grid_row": null,
            "grid_template_areas": null,
            "grid_template_columns": null,
            "grid_template_rows": null,
            "height": null,
            "justify_content": null,
            "justify_items": null,
            "left": null,
            "margin": null,
            "max_height": null,
            "max_width": null,
            "min_height": null,
            "min_width": null,
            "object_fit": null,
            "object_position": null,
            "order": null,
            "overflow": null,
            "overflow_x": null,
            "overflow_y": null,
            "padding": null,
            "right": null,
            "top": null,
            "visibility": null,
            "width": null
          }
        },
        "de6fa7e634dc423d9a63eed5e14a07ce": {
          "model_module": "@jupyter-widgets/controls",
          "model_module_version": "1.5.0",
          "model_name": "HTMLModel",
          "state": {
            "_dom_classes": [],
            "_model_module": "@jupyter-widgets/controls",
            "_model_module_version": "1.5.0",
            "_model_name": "HTMLModel",
            "_view_count": null,
            "_view_module": "@jupyter-widgets/controls",
            "_view_module_version": "1.5.0",
            "_view_name": "HTMLView",
            "description": "",
            "description_tooltip": null,
            "layout": "IPY_MODEL_4b66589afb5e4b0c8bde4d2f1dc73469",
            "placeholder": "​",
            "style": "IPY_MODEL_fd632cf1421d4f4d92a8fe4ee4d59c1b",
            "value": "Map: 100%"
          }
        },
        "ec004315298c43dfa0a07548b67f5e91": {
          "model_module": "@jupyter-widgets/controls",
          "model_module_version": "1.5.0",
          "model_name": "ProgressStyleModel",
          "state": {
            "_model_module": "@jupyter-widgets/controls",
            "_model_module_version": "1.5.0",
            "_model_name": "ProgressStyleModel",
            "_view_count": null,
            "_view_module": "@jupyter-widgets/base",
            "_view_module_version": "1.2.0",
            "_view_name": "StyleView",
            "bar_color": null,
            "description_width": ""
          }
        },
        "f14206d18dcb49cba1102f866fa54539": {
          "model_module": "@jupyter-widgets/base",
          "model_module_version": "1.2.0",
          "model_name": "LayoutModel",
          "state": {
            "_model_module": "@jupyter-widgets/base",
            "_model_module_version": "1.2.0",
            "_model_name": "LayoutModel",
            "_view_count": null,
            "_view_module": "@jupyter-widgets/base",
            "_view_module_version": "1.2.0",
            "_view_name": "LayoutView",
            "align_content": null,
            "align_items": null,
            "align_self": null,
            "border": null,
            "bottom": null,
            "display": null,
            "flex": null,
            "flex_flow": null,
            "grid_area": null,
            "grid_auto_columns": null,
            "grid_auto_flow": null,
            "grid_auto_rows": null,
            "grid_column": null,
            "grid_gap": null,
            "grid_row": null,
            "grid_template_areas": null,
            "grid_template_columns": null,
            "grid_template_rows": null,
            "height": null,
            "justify_content": null,
            "justify_items": null,
            "left": null,
            "margin": null,
            "max_height": null,
            "max_width": null,
            "min_height": null,
            "min_width": null,
            "object_fit": null,
            "object_position": null,
            "order": null,
            "overflow": null,
            "overflow_x": null,
            "overflow_y": null,
            "padding": null,
            "right": null,
            "top": null,
            "visibility": null,
            "width": null
          }
        },
        "f837e724843a4950aa8e65b3eacb9547": {
          "model_module": "@jupyter-widgets/controls",
          "model_module_version": "1.5.0",
          "model_name": "FloatProgressModel",
          "state": {
            "_dom_classes": [],
            "_model_module": "@jupyter-widgets/controls",
            "_model_module_version": "1.5.0",
            "_model_name": "FloatProgressModel",
            "_view_count": null,
            "_view_module": "@jupyter-widgets/controls",
            "_view_module_version": "1.5.0",
            "_view_name": "ProgressView",
            "bar_style": "success",
            "description": "",
            "description_tooltip": null,
            "layout": "IPY_MODEL_a0bc896118554b4e8f7d19eb57f2298b",
            "max": 1000,
            "min": 0,
            "orientation": "horizontal",
            "style": "IPY_MODEL_8dffb4b258374ab891c35bc41af319ab",
            "value": 1000
          }
        },
        "fd632cf1421d4f4d92a8fe4ee4d59c1b": {
          "model_module": "@jupyter-widgets/controls",
          "model_module_version": "1.5.0",
          "model_name": "DescriptionStyleModel",
          "state": {
            "_model_module": "@jupyter-widgets/controls",
            "_model_module_version": "1.5.0",
            "_model_name": "DescriptionStyleModel",
            "_view_count": null,
            "_view_module": "@jupyter-widgets/base",
            "_view_module_version": "1.2.0",
            "_view_name": "StyleView",
            "description_width": ""
          }
        }
      }
    }
  },
  "nbformat": 4,
  "nbformat_minor": 0
}