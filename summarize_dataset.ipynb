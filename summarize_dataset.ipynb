{
  "cells": [
    {
      "cell_type": "markdown",
      "metadata": {
        "id": "view-in-github",
        "colab_type": "text"
      },
      "source": [
        "<a href=\"https://colab.research.google.com/github/miroorc/Capstone-Project/blob/main/summarize_dataset.ipynb\" target=\"_parent\"><img src=\"https://colab.research.google.com/assets/colab-badge.svg\" alt=\"Open In Colab\"/></a>"
      ]
    },
    {
      "cell_type": "markdown",
      "source": [
        "### This file summarizes dataset and saves the summarized file in a google drive. This data was used to test BART model summarized version"
      ],
      "metadata": {
        "id": "IeQkIDmWWuhl"
      }
    },
    {
      "cell_type": "code",
      "execution_count": null,
      "metadata": {
        "id": "uXIs9MkjYSZo"
      },
      "outputs": [],
      "source": [
        "pip install --upgrade datasets"
      ]
    },
    {
      "cell_type": "code",
      "source": [
        "from google.colab import drive\n",
        "drive.mount('/content/drive')"
      ],
      "metadata": {
        "colab": {
          "base_uri": "https://localhost:8080/"
        },
        "id": "Q4-JuqV4dnao",
        "outputId": "09bccbfc-ada8-4585-b8b0-db7118e0715e"
      },
      "execution_count": null,
      "outputs": [
        {
          "output_type": "stream",
          "name": "stdout",
          "text": [
            "Mounted at /content/drive\n"
          ]
        }
      ]
    },
    {
      "cell_type": "code",
      "execution_count": null,
      "metadata": {
        "id": "MnBNkKUjYuBb"
      },
      "outputs": [],
      "source": [
        "!pip install bert-extractive-summarizer"
      ]
    },
    {
      "cell_type": "code",
      "execution_count": null,
      "metadata": {
        "id": "N0RamHxdZnk0"
      },
      "outputs": [],
      "source": [
        "from datasets import load_dataset\n",
        "ecthra = load_dataset(\"lex_glue\", \"ecthr_a\")"
      ]
    },
    {
      "cell_type": "code",
      "execution_count": null,
      "metadata": {
        "id": "-92V7OjnZnni"
      },
      "outputs": [],
      "source": [
        "#select the first 3000 original dataset to save time\n",
        "ecthra['train']=ecthra['train'].select(range(3000))"
      ]
    },
    {
      "cell_type": "code",
      "execution_count": null,
      "metadata": {
        "id": "EE5B7EkNZnqZ"
      },
      "outputs": [],
      "source": [
        "train=ecthra['train']\n",
        "validation=ecthra['validation']\n",
        "test=ecthra['test']"
      ]
    },
    {
      "cell_type": "code",
      "execution_count": null,
      "metadata": {
        "id": "1fv6BSBeZntJ"
      },
      "outputs": [],
      "source": [
        "#convert label to one-hot form\n",
        "import numpy as np\n",
        "num_classes = 10\n",
        "\n",
        "def one_hot_encode_multi(labels, num_classes):\n",
        "    encoded_labels = np.zeros((len(labels),num_classes))\n",
        "    for i, sublist in enumerate(labels):\n",
        "        encoded_labels[i, sublist] = 1\n",
        "    return encoded_labels"
      ]
    },
    {
      "cell_type": "code",
      "execution_count": null,
      "metadata": {
        "id": "MW2DcJn8aFf5"
      },
      "outputs": [],
      "source": [
        "train_one_hot=one_hot_encode_multi(train['labels'],10)\n",
        "train_one_hot = train_one_hot.tolist()\n",
        "train=train.add_column(name=\"labels_one_hot\", column=train_one_hot)"
      ]
    },
    {
      "cell_type": "code",
      "execution_count": null,
      "metadata": {
        "id": "nNzCSj2JaFis"
      },
      "outputs": [],
      "source": [
        "test_one_hot=one_hot_encode_multi(test['labels'],10)\n",
        "test_one_hot = test_one_hot.tolist()\n",
        "test=test.add_column(name=\"labels_one_hot\", column=test_one_hot)"
      ]
    },
    {
      "cell_type": "code",
      "execution_count": null,
      "metadata": {
        "id": "QpmXvDTfaIKn"
      },
      "outputs": [],
      "source": [
        "validation_one_hot=one_hot_encode_multi(validation['labels'],10)\n",
        "validation_one_hot = validation_one_hot.tolist()\n",
        "validation=validation.add_column(name=\"labels_one_hot\", column=validation_one_hot)"
      ]
    },
    {
      "cell_type": "code",
      "execution_count": null,
      "metadata": {
        "id": "qGvFJ6UTaIQa"
      },
      "outputs": [],
      "source": [
        "#clean the dataset to remove meaningless characters\n",
        "import re\n",
        "def format_text(text):\n",
        "    text_format = []\n",
        "    text=[[re.sub(r\"^\\d+\\.\\s*\",\"\",s) for s in sublst] for sublst in text]\n",
        "    for each in text:\n",
        "        text_format.append(''.join(each))\n",
        "    return text_format"
      ]
    },
    {
      "cell_type": "code",
      "execution_count": null,
      "metadata": {
        "id": "q2lppPIhaITC"
      },
      "outputs": [],
      "source": [
        "train_text_format=format_text(train['text'])\n",
        "train=train.remove_columns('text')\n",
        "train=train.add_column(name=\"text\", column=train_text_format)\n",
        "ecthra['train']=train"
      ]
    },
    {
      "cell_type": "code",
      "execution_count": null,
      "metadata": {
        "id": "-0HhzyR7aNDO"
      },
      "outputs": [],
      "source": [
        "test_text_format=format_text(test['text'])\n",
        "test=test.remove_columns('text')\n",
        "test=test.add_column(name=\"text\", column=test_text_format)\n",
        "ecthra['test']=test"
      ]
    },
    {
      "cell_type": "code",
      "execution_count": null,
      "metadata": {
        "id": "FLn92U3raNGA"
      },
      "outputs": [],
      "source": [
        "validation_text_format=format_text(validation['text'])\n",
        "validation=validation.remove_columns('text')\n",
        "validation=validation.add_column(name=\"text\", column=validation_text_format)\n",
        "ecthra['validation']=validation"
      ]
    },
    {
      "cell_type": "code",
      "execution_count": null,
      "metadata": {
        "id": "28U6QuOpaFlk"
      },
      "outputs": [],
      "source": [
        "ecthra=ecthra.remove_columns('labels')\n",
        "ecthra=ecthra.rename_column('labels_one_hot', 'labels')"
      ]
    },
    {
      "cell_type": "code",
      "execution_count": null,
      "metadata": {
        "colab": {
          "background_save": true
        },
        "id": "jIKXCAiAaQw8"
      },
      "outputs": [],
      "source": [
        "#use bert model to summarise original dataset\n",
        "from summarizer import Summarizer\n",
        "\n",
        "def summarize(example):\n",
        "    model_sum = Summarizer()\n",
        "    max_length = 1024\n",
        "    summarized_text = model_sum(example[\"text\"], max_length=1024)\n",
        "    example[\"text\"] = summarized_text#[0]['summary_text']\n",
        "    return example\n",
        "    # summarized_text = summarizer(example[\"text\"], max_length=512)\n",
        "    # example[\"text\"] = summarized_text[0]['summary_text']\n",
        "    # return example\n",
        "\n",
        "# The map method applies the function to each example in the dataset.\n",
        "ecthra[\"train\"] = ecthra[\"train\"].map(summarize)"
      ]
    },
    {
      "cell_type": "code",
      "execution_count": null,
      "metadata": {
        "colab": {
          "background_save": true
        },
        "id": "mpa--OdhaQzx"
      },
      "outputs": [],
      "source": [
        "ecthra[\"train\"].save_to_disk(\"/content/drive/MyDrive/sum_train1\")"
      ]
    },
    {
      "cell_type": "code",
      "execution_count": null,
      "metadata": {
        "id": "WKUf7JDdaQ2W"
      },
      "outputs": [],
      "source": []
    }
  ],
  "metadata": {
    "accelerator": "GPU",
    "colab": {
      "machine_shape": "hm",
      "provenance": [],
      "include_colab_link": true
    },
    "kernelspec": {
      "display_name": "Python 3",
      "name": "python3"
    },
    "language_info": {
      "name": "python"
    }
  },
  "nbformat": 4,
  "nbformat_minor": 0
}