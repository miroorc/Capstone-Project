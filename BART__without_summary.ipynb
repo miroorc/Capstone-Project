{
  "cells": [
    {
      "cell_type": "markdown",
      "metadata": {
        "id": "view-in-github",
        "colab_type": "text"
      },
      "source": [
        "<a href=\"https://colab.research.google.com/github/miroorc/Capstone-Project/blob/main/BART__without_summary.ipynb\" target=\"_parent\"><img src=\"https://colab.research.google.com/assets/colab-badge.svg\" alt=\"Open In Colab\"/></a>"
      ]
    },
    {
      "cell_type": "code",
      "execution_count": null,
      "metadata": {
        "id": "-OuAWDmGLdh-"
      },
      "outputs": [],
      "source": [
        "pip install --upgrade datasets"
      ]
    },
    {
      "cell_type": "code",
      "execution_count": null,
      "metadata": {
        "id": "s8Tg7kb2TAEc"
      },
      "outputs": [],
      "source": [
        "pip install transformers"
      ]
    },
    {
      "cell_type": "code",
      "execution_count": null,
      "metadata": {
        "id": "C0qLo6NYTDEs"
      },
      "outputs": [],
      "source": [
        "pip install transformers[torch]"
      ]
    },
    {
      "cell_type": "code",
      "execution_count": null,
      "metadata": {
        "id": "ZfFSykdYsg1t"
      },
      "outputs": [],
      "source": [
        "pip install scikit-learn"
      ]
    },
    {
      "cell_type": "code",
      "execution_count": null,
      "metadata": {
        "id": "SLE-1lMVRPdZ"
      },
      "outputs": [],
      "source": [
        "#load the ecthra dataset from lex_glue\n",
        "from datasets import load_dataset\n",
        "ecthra = load_dataset(\"lex_glue\", \"ecthr_a\")"
      ]
    },
    {
      "cell_type": "code",
      "execution_count": null,
      "metadata": {
        "id": "UFBfW9ocINxb"
      },
      "outputs": [],
      "source": [
        "#ecthra['train']=ecthra['train'].select([10])\n",
        "#ecthra['test']=ecthra['test'].select(range(10))\n",
        "#ecthra['validation']=ecthra['validation'].select(range(10))"
      ]
    },
    {
      "cell_type": "code",
      "execution_count": null,
      "metadata": {
        "id": "gsoG5Stho4OM"
      },
      "outputs": [],
      "source": [
        "#Extract the train, test, and validation parts of the ecthra dataset.\n",
        "train=ecthra['train']\n",
        "validation=ecthra['validation']\n",
        "test=ecthra['test']"
      ]
    },
    {
      "cell_type": "code",
      "execution_count": null,
      "metadata": {
        "id": "ZxuQRymiQNxn"
      },
      "outputs": [],
      "source": [
        "#convert label to one-hot form\n",
        "import numpy as np\n",
        "num_classes = 10\n",
        "\n",
        "def one_hot_encode_multi(labels, num_classes):\n",
        "    encoded_labels = np.zeros((len(labels),num_classes))\n",
        "    for i, sublist in enumerate(labels):\n",
        "        encoded_labels[i, sublist] = 1\n",
        "    return encoded_labels"
      ]
    },
    {
      "cell_type": "code",
      "execution_count": null,
      "metadata": {
        "id": "oewQJM01ZUa8"
      },
      "outputs": [],
      "source": [
        "train_one_hot=one_hot_encode_multi(train['labels'],10)\n",
        "train_one_hot = train_one_hot.tolist()\n",
        "train=train.add_column(name=\"labels_one_hot\", column=train_one_hot)"
      ]
    },
    {
      "cell_type": "code",
      "execution_count": null,
      "metadata": {
        "id": "1P8O4XnBzWD6"
      },
      "outputs": [],
      "source": [
        "test_one_hot=one_hot_encode_multi(test['labels'],10)\n",
        "test_one_hot = test_one_hot.tolist()\n",
        "test=test.add_column(name=\"labels_one_hot\", column=test_one_hot)"
      ]
    },
    {
      "cell_type": "code",
      "execution_count": null,
      "metadata": {
        "id": "Kf_MR_F5zWGi"
      },
      "outputs": [],
      "source": [
        "validation_one_hot=one_hot_encode_multi(validation['labels'],10)\n",
        "validation_one_hot = validation_one_hot.tolist()\n",
        "validation=validation.add_column(name=\"labels_one_hot\", column=validation_one_hot)"
      ]
    },
    {
      "cell_type": "code",
      "execution_count": null,
      "metadata": {
        "id": "nSA8EKczrzJl"
      },
      "outputs": [],
      "source": [
        "#clean the dataset to remove meaningless characters\n",
        "import re\n",
        "def format_text(text):\n",
        "    text_format = []\n",
        "    text=[[re.sub(r\"^\\d+\\.\\s*\",\"\",s) for s in sublst] for sublst in text]\n",
        "    for each in text:\n",
        "        text_format.append(''.join(each))\n",
        "    return text_format"
      ]
    },
    {
      "cell_type": "code",
      "execution_count": null,
      "metadata": {
        "id": "mrf4ZHXyyfHO"
      },
      "outputs": [],
      "source": [
        "train_text_format=format_text(train['text'])\n",
        "train=train.remove_columns('text')\n",
        "train=train.add_column(name=\"text\", column=train_text_format)\n",
        "ecthra['train']=train"
      ]
    },
    {
      "cell_type": "code",
      "execution_count": null,
      "metadata": {
        "id": "IfN2CHe1f2fO"
      },
      "outputs": [],
      "source": [
        "test_text_format=format_text(test['text'])\n",
        "test=test.remove_columns('text')\n",
        "test=test.add_column(name=\"text\", column=test_text_format)\n",
        "ecthra['test']=test"
      ]
    },
    {
      "cell_type": "code",
      "execution_count": null,
      "metadata": {
        "id": "cgDLv7Hnf2iE"
      },
      "outputs": [],
      "source": [
        "validation_text_format=format_text(validation['text'])\n",
        "validation=validation.remove_columns('text')\n",
        "validation=validation.add_column(name=\"text\", column=validation_text_format)\n",
        "ecthra['validation']=validation"
      ]
    },
    {
      "cell_type": "code",
      "execution_count": null,
      "metadata": {
        "id": "dpgsnicC8HKy"
      },
      "outputs": [],
      "source": [
        "ecthra=ecthra.remove_columns('labels')\n",
        "ecthra=ecthra.rename_column('labels_one_hot', 'labels')"
      ]
    },
    {
      "cell_type": "code",
      "execution_count": null,
      "metadata": {
        "id": "tbw0HoQwePI1"
      },
      "outputs": [],
      "source": [
        "from transformers import BartTokenizerFast, BartForSequenceClassification"
      ]
    },
    {
      "cell_type": "code",
      "execution_count": null,
      "metadata": {
        "id": "rHOPHu3XZUn_"
      },
      "outputs": [],
      "source": [
        "#add fine-tuning model\n",
        "\n",
        "\n",
        "model_ckpt = \"facebook/bart-base\"\n",
        "tokenizer = BartTokenizerFast.from_pretrained(model_ckpt, problem_type=\"multi_label_classification\")\n",
        "\n"
      ]
    },
    {
      "cell_type": "code",
      "execution_count": null,
      "metadata": {
        "id": "UbPqqWGjeChW"
      },
      "outputs": [],
      "source": [
        "def tokenize_and_encode(examples):\n",
        "  return tokenizer(examples[\"text\"], truncation=True)"
      ]
    },
    {
      "cell_type": "code",
      "execution_count": null,
      "metadata": {
        "colab": {
          "base_uri": "https://localhost:8080/",
          "height": 77,
          "referenced_widgets": [
            "efb6442cfe6d4134a3388c2c0c23221f",
            "5e23033cf19448abbf108591dcd20524",
            "6179dd65f0d24ae389864e337f683eea",
            "de4b402083ff4f198c44b92235f5ace6",
            "0852fc4c05604e5aaba7ea83be7ffbc2",
            "cef1a2726f644495935a40e9e3767ab8",
            "afa272cf41d14cb184da1ab14f746d8c",
            "ca35df8fc205476a8f64aba1e573bb92",
            "f037c8701c424acaadd5e410e7faf663",
            "03df793d35fa4d23aba2d3aab82f46bd",
            "370d3687487e47c6b92b6a5ac168ad38"
          ]
        },
        "id": "XqiSm8ZFeCkQ",
        "outputId": "91e11ad8-ee43-4a3f-d22a-4e8f30538a75"
      },
      "outputs": [
        {
          "data": {
            "application/vnd.jupyter.widget-view+json": {
              "model_id": "efb6442cfe6d4134a3388c2c0c23221f",
              "version_major": 2,
              "version_minor": 0
            },
            "text/plain": [
              "Map:   0%|          | 0/1000 [00:00<?, ? examples/s]"
            ]
          },
          "metadata": {},
          "output_type": "display_data"
        }
      ],
      "source": [
        "cols = ecthra[\"train\"].column_names\n",
        "cols.remove(\"labels\")\n",
        "ds_enc = ecthra.map(tokenize_and_encode, batched=True, remove_columns=cols)\n"
      ]
    },
    {
      "cell_type": "code",
      "execution_count": null,
      "metadata": {
        "colab": {
          "base_uri": "https://localhost:8080/"
        },
        "id": "gxdUlplwhYZ0",
        "outputId": "df2963bc-dc32-482c-c0ca-9927b9165285"
      },
      "outputs": [
        {
          "data": {
            "text/plain": [
              "Dataset({\n",
              "    features: ['labels', 'input_ids', 'attention_mask'],\n",
              "    num_rows: 9000\n",
              "})"
            ]
          },
          "execution_count": 17,
          "metadata": {},
          "output_type": "execute_result"
        }
      ],
      "source": [
        "ds_enc['train']"
      ]
    },
    {
      "cell_type": "code",
      "execution_count": null,
      "metadata": {
        "colab": {
          "base_uri": "https://localhost:8080/"
        },
        "id": "NKSelhfzhAl7",
        "outputId": "47ded8d7-4c03-4fe3-ddf6-2a166ed6cb96"
      },
      "outputs": [
        {
          "data": {
            "text/plain": [
              "1024"
            ]
          },
          "execution_count": 18,
          "metadata": {},
          "output_type": "execute_result"
        }
      ],
      "source": [
        "len(ds_enc['train'][0]['input_ids'])"
      ]
    },
    {
      "cell_type": "code",
      "execution_count": null,
      "metadata": {
        "id": "PZDannBu35GD"
      },
      "outputs": [],
      "source": [
        "ds_enc.set_format(\"torch\")"
      ]
    },
    {
      "cell_type": "code",
      "execution_count": null,
      "metadata": {
        "colab": {
          "base_uri": "https://localhost:8080/"
        },
        "id": "BBJQdh3B0Yh1",
        "outputId": "0c313e13-1e1c-4fe0-e199-31cc722688db"
      },
      "outputs": [
        {
          "name": "stderr",
          "output_type": "stream",
          "text": [
            "Some weights of BartForSequenceClassification were not initialized from the model checkpoint at facebook/bart-base and are newly initialized: ['classification_head.out_proj.bias', 'classification_head.out_proj.weight', 'classification_head.dense.bias', 'classification_head.dense.weight']\n",
            "You should probably TRAIN this model on a down-stream task to be able to use it for predictions and inference.\n"
          ]
        }
      ],
      "source": [
        "num_labels=10\n",
        "model = BartForSequenceClassification.from_pretrained(model_ckpt, num_labels=num_labels, problem_type=\"multi_label_classification\",ignore_mismatched_sizes=True)"
      ]
    },
    {
      "cell_type": "code",
      "execution_count": null,
      "metadata": {
        "id": "4o_ZGri01D6H"
      },
      "outputs": [],
      "source": [
        "from transformers import (AutoTokenizer, AutoModelForSequenceClassification,\n",
        "                          TrainingArguments, Trainer)"
      ]
    },
    {
      "cell_type": "code",
      "execution_count": null,
      "metadata": {
        "colab": {
          "base_uri": "https://localhost:8080/"
        },
        "id": "13mRYenj1iQS",
        "outputId": "db238a01-31d6-48a2-b3e7-113d66d1016d"
      },
      "outputs": [
        {
          "data": {
            "text/plain": [
              "BartForSequenceClassification(\n",
              "  (model): BartModel(\n",
              "    (shared): Embedding(50265, 768, padding_idx=1)\n",
              "    (encoder): BartEncoder(\n",
              "      (embed_tokens): Embedding(50265, 768, padding_idx=1)\n",
              "      (embed_positions): BartLearnedPositionalEmbedding(1026, 768)\n",
              "      (layers): ModuleList(\n",
              "        (0-5): 6 x BartEncoderLayer(\n",
              "          (self_attn): BartAttention(\n",
              "            (k_proj): Linear(in_features=768, out_features=768, bias=True)\n",
              "            (v_proj): Linear(in_features=768, out_features=768, bias=True)\n",
              "            (q_proj): Linear(in_features=768, out_features=768, bias=True)\n",
              "            (out_proj): Linear(in_features=768, out_features=768, bias=True)\n",
              "          )\n",
              "          (self_attn_layer_norm): LayerNorm((768,), eps=1e-05, elementwise_affine=True)\n",
              "          (activation_fn): GELUActivation()\n",
              "          (fc1): Linear(in_features=768, out_features=3072, bias=True)\n",
              "          (fc2): Linear(in_features=3072, out_features=768, bias=True)\n",
              "          (final_layer_norm): LayerNorm((768,), eps=1e-05, elementwise_affine=True)\n",
              "        )\n",
              "      )\n",
              "      (layernorm_embedding): LayerNorm((768,), eps=1e-05, elementwise_affine=True)\n",
              "    )\n",
              "    (decoder): BartDecoder(\n",
              "      (embed_tokens): Embedding(50265, 768, padding_idx=1)\n",
              "      (embed_positions): BartLearnedPositionalEmbedding(1026, 768)\n",
              "      (layers): ModuleList(\n",
              "        (0-5): 6 x BartDecoderLayer(\n",
              "          (self_attn): BartAttention(\n",
              "            (k_proj): Linear(in_features=768, out_features=768, bias=True)\n",
              "            (v_proj): Linear(in_features=768, out_features=768, bias=True)\n",
              "            (q_proj): Linear(in_features=768, out_features=768, bias=True)\n",
              "            (out_proj): Linear(in_features=768, out_features=768, bias=True)\n",
              "          )\n",
              "          (activation_fn): GELUActivation()\n",
              "          (self_attn_layer_norm): LayerNorm((768,), eps=1e-05, elementwise_affine=True)\n",
              "          (encoder_attn): BartAttention(\n",
              "            (k_proj): Linear(in_features=768, out_features=768, bias=True)\n",
              "            (v_proj): Linear(in_features=768, out_features=768, bias=True)\n",
              "            (q_proj): Linear(in_features=768, out_features=768, bias=True)\n",
              "            (out_proj): Linear(in_features=768, out_features=768, bias=True)\n",
              "          )\n",
              "          (encoder_attn_layer_norm): LayerNorm((768,), eps=1e-05, elementwise_affine=True)\n",
              "          (fc1): Linear(in_features=768, out_features=3072, bias=True)\n",
              "          (fc2): Linear(in_features=3072, out_features=768, bias=True)\n",
              "          (final_layer_norm): LayerNorm((768,), eps=1e-05, elementwise_affine=True)\n",
              "        )\n",
              "      )\n",
              "      (layernorm_embedding): LayerNorm((768,), eps=1e-05, elementwise_affine=True)\n",
              "    )\n",
              "  )\n",
              "  (classification_head): BartClassificationHead(\n",
              "    (dense): Linear(in_features=768, out_features=768, bias=True)\n",
              "    (dropout): Dropout(p=0.0, inplace=False)\n",
              "    (out_proj): Linear(in_features=768, out_features=10, bias=True)\n",
              "  )\n",
              ")"
            ]
          },
          "execution_count": 22,
          "metadata": {},
          "output_type": "execute_result"
        }
      ],
      "source": [
        "model.to('cuda')"
      ]
    },
    {
      "cell_type": "code",
      "execution_count": null,
      "metadata": {
        "id": "Om6R3SqiaZSS"
      },
      "outputs": [],
      "source": [
        "# define the arguments\n",
        "batch_size = 4\n",
        "metric_name = \"f1\""
      ]
    },
    {
      "cell_type": "code",
      "execution_count": null,
      "metadata": {
        "id": "9tJ-fyzjaZXP"
      },
      "outputs": [],
      "source": [
        "args = TrainingArguments(\n",
        "    f\"output\",\n",
        "    evaluation_strategy = \"epoch\",\n",
        "    save_strategy = \"epoch\",\n",
        "    learning_rate=5e-5,\n",
        "    per_device_train_batch_size=batch_size,\n",
        "    per_device_eval_batch_size=batch_size,\n",
        "    num_train_epochs=8,\n",
        "    weight_decay=0.05,\n",
        "    load_best_model_at_end=True,\n",
        "    metric_for_best_model=metric_name,\n",
        ")"
      ]
    },
    {
      "cell_type": "code",
      "execution_count": null,
      "metadata": {
        "id": "Qzr1evZKanGq"
      },
      "outputs": [],
      "source": [
        "# reference: https://jesusleal.io/2021/04/21/Longformer-multilabel-classification/\n",
        "from sklearn.metrics import f1_score, roc_auc_score, accuracy_score,recall_score\n",
        "from transformers import EvalPrediction\n",
        "import sklearn.metrics as skm\n",
        "import torch\n",
        "import json\n",
        "\n",
        "\n",
        "def multi_label_metrics(predictions, labels, threshold=0.6):\n",
        "    # first, apply sigmoid on predictions which are of shape (batch_size, num_labels)\n",
        "    sigmoid = torch.nn.Sigmoid()\n",
        "    probs = sigmoid(torch.Tensor(predictions))\n",
        "    # next, use threshold to turn them into integer predictions\n",
        "    y_pred = np.zeros(probs.shape)\n",
        "    y_pred[np.where(probs >= threshold)] = 1\n",
        "    # finally, compute metrics\n",
        "    y_true = labels\n",
        "    recall=recall_score(y_true, y_pred, average='macro')\n",
        "    f1_micro_average = f1_score(y_true=y_true, y_pred=y_pred, average='micro')\n",
        "    roc_auc = roc_auc_score(y_true, y_pred, average = 'micro')\n",
        "    accuracy = accuracy_score(y_true, y_pred)\n",
        "    # return as dictionary\n",
        "    #matrixes = skm.confusion_matrix(y_true, y_pred)\n",
        "    cm = skm.multilabel_confusion_matrix(y_true, y_pred).tolist()\n",
        "    metrics = {'f1': f1_micro_average,\n",
        "               'roc_auc': roc_auc,\n",
        "               'accuracy': accuracy,\n",
        "               'recall':recall,\n",
        "               'matrixes':cm\n",
        "\n",
        "               }\n",
        "    return metrics\n",
        "\n",
        "def compute_metrics(p: EvalPrediction):\n",
        "    preds = p.predictions[0] if isinstance(p.predictions,\n",
        "            tuple) else p.predictions\n",
        "    result = multi_label_metrics(\n",
        "        predictions=preds,\n",
        "        labels=p.label_ids)\n",
        "    return result"
      ]
    },
    {
      "cell_type": "code",
      "execution_count": null,
      "metadata": {
        "id": "SpSZ3ctUawM-"
      },
      "outputs": [],
      "source": [
        "#define trainer\n",
        "trainer = Trainer(\n",
        "    model=model, args=args,\n",
        "    train_dataset=ds_enc[\"train\"],\n",
        "    eval_dataset=ds_enc[\"validation\"],\n",
        "    tokenizer=tokenizer,\n",
        "    compute_metrics=compute_metrics\n",
        ")\n"
      ]
    },
    {
      "cell_type": "code",
      "execution_count": null,
      "metadata": {
        "colab": {
          "base_uri": "https://localhost:8080/",
          "height": 414
        },
        "id": "0GuML-AaeIda",
        "outputId": "9f676d6a-5363-41ac-d94e-634461e99a75"
      },
      "outputs": [
        {
          "name": "stderr",
          "output_type": "stream",
          "text": [
            "You're using a BartTokenizerFast tokenizer. Please note that with a fast tokenizer, using the `__call__` method is faster than using a method to encode the text followed by a call to the `pad` method to get a padded encoding.\n"
          ]
        },
        {
          "data": {
            "text/html": [
              "\n",
              "    <div>\n",
              "      \n",
              "      <progress value='250' max='250' style='width:300px; height:20px; vertical-align: middle;'></progress>\n",
              "      [250/250 01:41]\n",
              "    </div>\n",
              "    "
            ],
            "text/plain": [
              "<IPython.core.display.HTML object>"
            ]
          },
          "metadata": {},
          "output_type": "display_data"
        },
        {
          "name": "stderr",
          "output_type": "stream",
          "text": [
            "Trainer is attempting to log a value of \"[[[943, 0], [57, 0]], [[800, 7], [190, 3]], [[796, 17], [185, 2]], [[698, 2], [300, 0]], [[698, 215], [80, 7]], [[909, 87], [4, 0]], [[895, 63], [41, 1]], [[956, 11], [33, 0]], [[982, 0], [18, 0]], [[821, 40], [137, 2]]]\" of type <class 'list'> for key \"eval/matrixes\" as a scalar. This invocation of Tensorboard's writer.add_scalar() is incorrect so we dropped this attribute.\n"
          ]
        },
        {
          "data": {
            "text/plain": [
              "{'eval_loss': 0.6738670468330383,\n",
              " 'eval_f1': 0.019775873434410018,\n",
              " 'eval_roc_auc': 0.4823551137562787,\n",
              " 'eval_accuracy': 0.133,\n",
              " 'eval_recall': 0.014489701174965203,\n",
              " 'eval_matrixes': [[[943, 0], [57, 0]],\n",
              "  [[800, 7], [190, 3]],\n",
              "  [[796, 17], [185, 2]],\n",
              "  [[698, 2], [300, 0]],\n",
              "  [[698, 215], [80, 7]],\n",
              "  [[909, 87], [4, 0]],\n",
              "  [[895, 63], [41, 1]],\n",
              "  [[956, 11], [33, 0]],\n",
              "  [[982, 0], [18, 0]],\n",
              "  [[821, 40], [137, 2]]],\n",
              " 'eval_runtime': 104.6411,\n",
              " 'eval_samples_per_second': 9.556,\n",
              " 'eval_steps_per_second': 2.389}"
            ]
          },
          "execution_count": 27,
          "metadata": {},
          "output_type": "execute_result"
        }
      ],
      "source": [
        "trainer.evaluate()"
      ]
    },
    {
      "cell_type": "code",
      "execution_count": null,
      "metadata": {
        "colab": {
          "background_save": true,
          "base_uri": "https://localhost:8080/",
          "height": 1000
        },
        "id": "FNFNoMhsaZap",
        "outputId": "e5507058-f367-4ac6-f999-11b64fa42275"
      },
      "outputs": [
        {
          "name": "stderr",
          "output_type": "stream",
          "text": [
            "/usr/local/lib/python3.10/dist-packages/transformers/optimization.py:411: FutureWarning: This implementation of AdamW is deprecated and will be removed in a future version. Use the PyTorch implementation torch.optim.AdamW instead, or set `no_deprecation_warning=True` to disable this warning\n",
            "  warnings.warn(\n"
          ]
        },
        {
          "data": {
            "text/html": [
              "\n",
              "    <div>\n",
              "      \n",
              "      <progress value='18000' max='18000' style='width:300px; height:20px; vertical-align: middle;'></progress>\n",
              "      [18000/18000 6:25:01, Epoch 8/8]\n",
              "    </div>\n",
              "    <table border=\"1\" class=\"dataframe\">\n",
              "  <thead>\n",
              " <tr style=\"text-align: left;\">\n",
              "      <th>Epoch</th>\n",
              "      <th>Training Loss</th>\n",
              "      <th>Validation Loss</th>\n",
              "      <th>F1</th>\n",
              "      <th>Roc Auc</th>\n",
              "      <th>Accuracy</th>\n",
              "      <th>Recall</th>\n",
              "      <th>Matrixes</th>\n",
              "    </tr>\n",
              "  </thead>\n",
              "  <tbody>\n",
              "    <tr>\n",
              "      <td>1</td>\n",
              "      <td>0.159400</td>\n",
              "      <td>0.168626</td>\n",
              "      <td>0.598515</td>\n",
              "      <td>0.737830</td>\n",
              "      <td>0.473000</td>\n",
              "      <td>0.365792</td>\n",
              "      <td>[[[934, 9], [30, 27]], [[796, 11], [116, 77]], [[766, 47], [62, 125]], [[625, 75], [110, 190]], [[913, 0], [87, 0]], [[995, 1], [3, 1]], [[958, 0], [42, 0]], [[963, 4], [12, 21]], [[982, 0], [18, 0]], [[841, 20], [56, 83]]]</td>\n",
              "    </tr>\n",
              "    <tr>\n",
              "      <td>2</td>\n",
              "      <td>0.134200</td>\n",
              "      <td>0.156700</td>\n",
              "      <td>0.663152</td>\n",
              "      <td>0.785065</td>\n",
              "      <td>0.528000</td>\n",
              "      <td>0.516308</td>\n",
              "      <td>[[[936, 7], [21, 36]], [[774, 33], [61, 132]], [[771, 42], [51, 136]], [[670, 30], [148, 152]], [[871, 42], [45, 42]], [[993, 3], [2, 2]], [[940, 18], [15, 27]], [[965, 2], [22, 11]], [[982, 0], [18, 0]], [[830, 31], [48, 91]]]</td>\n",
              "    </tr>\n",
              "    <tr>\n",
              "      <td>3</td>\n",
              "      <td>0.109300</td>\n",
              "      <td>0.164898</td>\n",
              "      <td>0.686819</td>\n",
              "      <td>0.812066</td>\n",
              "      <td>0.536000</td>\n",
              "      <td>0.573154</td>\n",
              "      <td>[[[928, 15], [18, 39]], [[785, 22], [77, 116]], [[794, 19], [72, 115]], [[628, 72], [107, 193]], [[855, 58], [38, 49]], [[995, 1], [3, 1]], [[935, 23], [9, 33]], [[962, 5], [10, 23]], [[978, 4], [18, 0]], [[815, 46], [15, 124]]]</td>\n",
              "    </tr>\n",
              "    <tr>\n",
              "      <td>4</td>\n",
              "      <td>0.088400</td>\n",
              "      <td>0.172298</td>\n",
              "      <td>0.696652</td>\n",
              "      <td>0.815127</td>\n",
              "      <td>0.544000</td>\n",
              "      <td>0.543143</td>\n",
              "      <td>[[[926, 17], [17, 40]], [[783, 24], [64, 129]], [[780, 33], [55, 132]], [[607, 93], [85, 215]], [[868, 45], [37, 50]], [[996, 0], [4, 0]], [[945, 13], [18, 24]], [[966, 1], [8, 25]], [[980, 2], [15, 3]], [[845, 16], [60, 79]]]</td>\n",
              "    </tr>\n",
              "    <tr>\n",
              "      <td>5</td>\n",
              "      <td>0.079900</td>\n",
              "      <td>0.175672</td>\n",
              "      <td>0.686838</td>\n",
              "      <td>0.807692</td>\n",
              "      <td>0.534000</td>\n",
              "      <td>0.544459</td>\n",
              "      <td>[[[923, 20], [20, 37]], [[785, 22], [66, 127]], [[789, 24], [68, 119]], [[636, 64], [114, 186]], [[874, 39], [55, 32]], [[996, 0], [4, 0]], [[948, 10], [18, 24]], [[965, 2], [8, 25]], [[975, 7], [13, 5]], [[807, 54], [13, 126]]]</td>\n",
              "    </tr>\n",
              "    <tr>\n",
              "      <td>6</td>\n",
              "      <td>0.059200</td>\n",
              "      <td>0.191743</td>\n",
              "      <td>0.702651</td>\n",
              "      <td>0.827872</td>\n",
              "      <td>0.533000</td>\n",
              "      <td>0.598288</td>\n",
              "      <td>[[[924, 19], [18, 39]], [[750, 57], [42, 151]], [[779, 34], [55, 132]], [[625, 75], [106, 194]], [[868, 45], [43, 44]], [[995, 1], [4, 0]], [[940, 18], [13, 29]], [[964, 3], [4, 29]], [[978, 4], [12, 6]], [[831, 30], [34, 105]]]</td>\n",
              "    </tr>\n",
              "    <tr>\n",
              "      <td>7</td>\n",
              "      <td>0.047800</td>\n",
              "      <td>0.219174</td>\n",
              "      <td>0.710706</td>\n",
              "      <td>0.848070</td>\n",
              "      <td>0.529000</td>\n",
              "      <td>0.638439</td>\n",
              "      <td>[[[915, 28], [13, 44]], [[749, 58], [40, 153]], [[776, 37], [54, 133]], [[589, 111], [79, 221]], [[868, 45], [38, 49]], [[995, 1], [4, 0]], [[941, 17], [13, 29]], [[960, 7], [3, 30]], [[974, 8], [11, 7]], [[818, 43], [25, 114]]]</td>\n",
              "    </tr>\n",
              "    <tr>\n",
              "      <td>8</td>\n",
              "      <td>0.034600</td>\n",
              "      <td>0.226985</td>\n",
              "      <td>0.695734</td>\n",
              "      <td>0.831488</td>\n",
              "      <td>0.521000</td>\n",
              "      <td>0.584099</td>\n",
              "      <td>[[[921, 22], [19, 38]], [[753, 54], [42, 151]], [[779, 34], [65, 122]], [[595, 105], [82, 218]], [[863, 50], [44, 43]], [[995, 1], [4, 0]], [[944, 14], [16, 26]], [[963, 4], [4, 29]], [[975, 7], [14, 4]], [[821, 40], [28, 111]]]</td>\n",
              "    </tr>\n",
              "  </tbody>\n",
              "</table><p>"
            ],
            "text/plain": [
              "<IPython.core.display.HTML object>"
            ]
          },
          "metadata": {},
          "output_type": "display_data"
        },
        {
          "data": {
            "text/html": [
              "\n",
              "    <div>\n",
              "      \n",
              "      <progress value='500' max='250' style='width:300px; height:20px; vertical-align: middle;'></progress>\n",
              "      [250/250 49:59]\n",
              "    </div>\n",
              "    "
            ],
            "text/plain": [
              "<IPython.core.display.HTML object>"
            ]
          },
          "metadata": {},
          "output_type": "display_data"
        },
        {
          "name": "stderr",
          "output_type": "stream",
          "text": [
            "Trainer is attempting to log a value of \"[[[934, 9], [30, 27]], [[796, 11], [116, 77]], [[766, 47], [62, 125]], [[625, 75], [110, 190]], [[913, 0], [87, 0]], [[995, 1], [3, 1]], [[958, 0], [42, 0]], [[963, 4], [12, 21]], [[982, 0], [18, 0]], [[841, 20], [56, 83]]]\" of type <class 'list'> for key \"eval/matrixes\" as a scalar. This invocation of Tensorboard's writer.add_scalar() is incorrect so we dropped this attribute.\n",
            "Trainer is attempting to log a value of \"[[[936, 7], [21, 36]], [[774, 33], [61, 132]], [[771, 42], [51, 136]], [[670, 30], [148, 152]], [[871, 42], [45, 42]], [[993, 3], [2, 2]], [[940, 18], [15, 27]], [[965, 2], [22, 11]], [[982, 0], [18, 0]], [[830, 31], [48, 91]]]\" of type <class 'list'> for key \"eval/matrixes\" as a scalar. This invocation of Tensorboard's writer.add_scalar() is incorrect so we dropped this attribute.\n",
            "Trainer is attempting to log a value of \"[[[928, 15], [18, 39]], [[785, 22], [77, 116]], [[794, 19], [72, 115]], [[628, 72], [107, 193]], [[855, 58], [38, 49]], [[995, 1], [3, 1]], [[935, 23], [9, 33]], [[962, 5], [10, 23]], [[978, 4], [18, 0]], [[815, 46], [15, 124]]]\" of type <class 'list'> for key \"eval/matrixes\" as a scalar. This invocation of Tensorboard's writer.add_scalar() is incorrect so we dropped this attribute.\n",
            "Trainer is attempting to log a value of \"[[[926, 17], [17, 40]], [[783, 24], [64, 129]], [[780, 33], [55, 132]], [[607, 93], [85, 215]], [[868, 45], [37, 50]], [[996, 0], [4, 0]], [[945, 13], [18, 24]], [[966, 1], [8, 25]], [[980, 2], [15, 3]], [[845, 16], [60, 79]]]\" of type <class 'list'> for key \"eval/matrixes\" as a scalar. This invocation of Tensorboard's writer.add_scalar() is incorrect so we dropped this attribute.\n",
            "Trainer is attempting to log a value of \"[[[923, 20], [20, 37]], [[785, 22], [66, 127]], [[789, 24], [68, 119]], [[636, 64], [114, 186]], [[874, 39], [55, 32]], [[996, 0], [4, 0]], [[948, 10], [18, 24]], [[965, 2], [8, 25]], [[975, 7], [13, 5]], [[807, 54], [13, 126]]]\" of type <class 'list'> for key \"eval/matrixes\" as a scalar. This invocation of Tensorboard's writer.add_scalar() is incorrect so we dropped this attribute.\n",
            "Trainer is attempting to log a value of \"[[[924, 19], [18, 39]], [[750, 57], [42, 151]], [[779, 34], [55, 132]], [[625, 75], [106, 194]], [[868, 45], [43, 44]], [[995, 1], [4, 0]], [[940, 18], [13, 29]], [[964, 3], [4, 29]], [[978, 4], [12, 6]], [[831, 30], [34, 105]]]\" of type <class 'list'> for key \"eval/matrixes\" as a scalar. This invocation of Tensorboard's writer.add_scalar() is incorrect so we dropped this attribute.\n",
            "Trainer is attempting to log a value of \"[[[915, 28], [13, 44]], [[749, 58], [40, 153]], [[776, 37], [54, 133]], [[589, 111], [79, 221]], [[868, 45], [38, 49]], [[995, 1], [4, 0]], [[941, 17], [13, 29]], [[960, 7], [3, 30]], [[974, 8], [11, 7]], [[818, 43], [25, 114]]]\" of type <class 'list'> for key \"eval/matrixes\" as a scalar. This invocation of Tensorboard's writer.add_scalar() is incorrect so we dropped this attribute.\n",
            "Trainer is attempting to log a value of \"[[[921, 22], [19, 38]], [[753, 54], [42, 151]], [[779, 34], [65, 122]], [[595, 105], [82, 218]], [[863, 50], [44, 43]], [[995, 1], [4, 0]], [[944, 14], [16, 26]], [[963, 4], [4, 29]], [[975, 7], [14, 4]], [[821, 40], [28, 111]]]\" of type <class 'list'> for key \"eval/matrixes\" as a scalar. This invocation of Tensorboard's writer.add_scalar() is incorrect so we dropped this attribute.\n"
          ]
        },
        {
          "data": {
            "text/plain": [
              "TrainOutput(global_step=18000, training_loss=0.09182254399193658, metrics={'train_runtime': 23102.7522, 'train_samples_per_second': 3.117, 'train_steps_per_second': 0.779, 'total_flos': 4.384803407785306e+16, 'train_loss': 0.09182254399193658, 'epoch': 8.0})"
            ]
          },
          "execution_count": 28,
          "metadata": {},
          "output_type": "execute_result"
        }
      ],
      "source": [
        "import torch\n",
        "torch.cuda.empty_cache()\n",
        "trainer.train()"
      ]
    },
    {
      "cell_type": "code",
      "execution_count": null,
      "metadata": {
        "id": "TheOTvvB47gO"
      },
      "outputs": [],
      "source": [
        "x=trainer.evaluate()"
      ]
    },
    {
      "cell_type": "code",
      "execution_count": null,
      "metadata": {
        "id": "H1uqdruM7hiO"
      },
      "outputs": [],
      "source": [
        "import numpy as np\n",
        "import seaborn as sns\n",
        "import matplotlib.pyplot as plt\n",
        "\n",
        "confusion_matrices = x['eval_matrixes']\n",
        "\n",
        "# make confusion matrix\n",
        "labels = ['Positive', 'Negative']\n",
        "\n",
        "fig, axs = plt.subplots(2, 5, figsize=(15, 6))\n",
        "for i, ax in enumerate(axs.flatten()):\n",
        "    sns.heatmap(confusion_matrices[i], annot=True, fmt='d', cmap='Blues', xticklabels=labels, yticklabels=labels, ax=ax)\n",
        "    ax.set_title(f'Confusion Matrix {i+1}')\n",
        "    ax.set_xlabel('Predicted Label')\n",
        "    ax.set_ylabel('Actual Label')\n",
        "\n",
        "plt.tight_layout()\n",
        "\n",
        "plt.show()\n",
        "\n"
      ]
    }
  ],
  "metadata": {
    "accelerator": "GPU",
    "colab": {
      "machine_shape": "hm",
      "provenance": [],
      "include_colab_link": true
    },
    "kernelspec": {
      "display_name": "Python 3",
      "name": "python3"
    },
    "language_info": {
      "codemirror_mode": {
        "name": "ipython",
        "version": 3
      },
      "file_extension": ".py",
      "mimetype": "text/x-python",
      "name": "python",
      "nbconvert_exporter": "python",
      "pygments_lexer": "ipython3",
      "version": "3.10.6"
    },
    "widgets": {
      "application/vnd.jupyter.widget-state+json": {
        "03df793d35fa4d23aba2d3aab82f46bd": {
          "model_module": "@jupyter-widgets/base",
          "model_module_version": "1.2.0",
          "model_name": "LayoutModel",
          "state": {
            "_model_module": "@jupyter-widgets/base",
            "_model_module_version": "1.2.0",
            "_model_name": "LayoutModel",
            "_view_count": null,
            "_view_module": "@jupyter-widgets/base",
            "_view_module_version": "1.2.0",
            "_view_name": "LayoutView",
            "align_content": null,
            "align_items": null,
            "align_self": null,
            "border": null,
            "bottom": null,
            "display": null,
            "flex": null,
            "flex_flow": null,
            "grid_area": null,
            "grid_auto_columns": null,
            "grid_auto_flow": null,
            "grid_auto_rows": null,
            "grid_column": null,
            "grid_gap": null,
            "grid_row": null,
            "grid_template_areas": null,
            "grid_template_columns": null,
            "grid_template_rows": null,
            "height": null,
            "justify_content": null,
            "justify_items": null,
            "left": null,
            "margin": null,
            "max_height": null,
            "max_width": null,
            "min_height": null,
            "min_width": null,
            "object_fit": null,
            "object_position": null,
            "order": null,
            "overflow": null,
            "overflow_x": null,
            "overflow_y": null,
            "padding": null,
            "right": null,
            "top": null,
            "visibility": null,
            "width": null
          }
        },
        "0852fc4c05604e5aaba7ea83be7ffbc2": {
          "model_module": "@jupyter-widgets/base",
          "model_module_version": "1.2.0",
          "model_name": "LayoutModel",
          "state": {
            "_model_module": "@jupyter-widgets/base",
            "_model_module_version": "1.2.0",
            "_model_name": "LayoutModel",
            "_view_count": null,
            "_view_module": "@jupyter-widgets/base",
            "_view_module_version": "1.2.0",
            "_view_name": "LayoutView",
            "align_content": null,
            "align_items": null,
            "align_self": null,
            "border": null,
            "bottom": null,
            "display": null,
            "flex": null,
            "flex_flow": null,
            "grid_area": null,
            "grid_auto_columns": null,
            "grid_auto_flow": null,
            "grid_auto_rows": null,
            "grid_column": null,
            "grid_gap": null,
            "grid_row": null,
            "grid_template_areas": null,
            "grid_template_columns": null,
            "grid_template_rows": null,
            "height": null,
            "justify_content": null,
            "justify_items": null,
            "left": null,
            "margin": null,
            "max_height": null,
            "max_width": null,
            "min_height": null,
            "min_width": null,
            "object_fit": null,
            "object_position": null,
            "order": null,
            "overflow": null,
            "overflow_x": null,
            "overflow_y": null,
            "padding": null,
            "right": null,
            "top": null,
            "visibility": null,
            "width": null
          }
        },
        "370d3687487e47c6b92b6a5ac168ad38": {
          "model_module": "@jupyter-widgets/controls",
          "model_module_version": "1.5.0",
          "model_name": "DescriptionStyleModel",
          "state": {
            "_model_module": "@jupyter-widgets/controls",
            "_model_module_version": "1.5.0",
            "_model_name": "DescriptionStyleModel",
            "_view_count": null,
            "_view_module": "@jupyter-widgets/base",
            "_view_module_version": "1.2.0",
            "_view_name": "StyleView",
            "description_width": ""
          }
        },
        "5e23033cf19448abbf108591dcd20524": {
          "model_module": "@jupyter-widgets/controls",
          "model_module_version": "1.5.0",
          "model_name": "HTMLModel",
          "state": {
            "_dom_classes": [],
            "_model_module": "@jupyter-widgets/controls",
            "_model_module_version": "1.5.0",
            "_model_name": "HTMLModel",
            "_view_count": null,
            "_view_module": "@jupyter-widgets/controls",
            "_view_module_version": "1.5.0",
            "_view_name": "HTMLView",
            "description": "",
            "description_tooltip": null,
            "layout": "IPY_MODEL_cef1a2726f644495935a40e9e3767ab8",
            "placeholder": "​",
            "style": "IPY_MODEL_afa272cf41d14cb184da1ab14f746d8c",
            "value": "Map: 100%"
          }
        },
        "6179dd65f0d24ae389864e337f683eea": {
          "model_module": "@jupyter-widgets/controls",
          "model_module_version": "1.5.0",
          "model_name": "FloatProgressModel",
          "state": {
            "_dom_classes": [],
            "_model_module": "@jupyter-widgets/controls",
            "_model_module_version": "1.5.0",
            "_model_name": "FloatProgressModel",
            "_view_count": null,
            "_view_module": "@jupyter-widgets/controls",
            "_view_module_version": "1.5.0",
            "_view_name": "ProgressView",
            "bar_style": "success",
            "description": "",
            "description_tooltip": null,
            "layout": "IPY_MODEL_ca35df8fc205476a8f64aba1e573bb92",
            "max": 1000,
            "min": 0,
            "orientation": "horizontal",
            "style": "IPY_MODEL_f037c8701c424acaadd5e410e7faf663",
            "value": 1000
          }
        },
        "afa272cf41d14cb184da1ab14f746d8c": {
          "model_module": "@jupyter-widgets/controls",
          "model_module_version": "1.5.0",
          "model_name": "DescriptionStyleModel",
          "state": {
            "_model_module": "@jupyter-widgets/controls",
            "_model_module_version": "1.5.0",
            "_model_name": "DescriptionStyleModel",
            "_view_count": null,
            "_view_module": "@jupyter-widgets/base",
            "_view_module_version": "1.2.0",
            "_view_name": "StyleView",
            "description_width": ""
          }
        },
        "ca35df8fc205476a8f64aba1e573bb92": {
          "model_module": "@jupyter-widgets/base",
          "model_module_version": "1.2.0",
          "model_name": "LayoutModel",
          "state": {
            "_model_module": "@jupyter-widgets/base",
            "_model_module_version": "1.2.0",
            "_model_name": "LayoutModel",
            "_view_count": null,
            "_view_module": "@jupyter-widgets/base",
            "_view_module_version": "1.2.0",
            "_view_name": "LayoutView",
            "align_content": null,
            "align_items": null,
            "align_self": null,
            "border": null,
            "bottom": null,
            "display": null,
            "flex": null,
            "flex_flow": null,
            "grid_area": null,
            "grid_auto_columns": null,
            "grid_auto_flow": null,
            "grid_auto_rows": null,
            "grid_column": null,
            "grid_gap": null,
            "grid_row": null,
            "grid_template_areas": null,
            "grid_template_columns": null,
            "grid_template_rows": null,
            "height": null,
            "justify_content": null,
            "justify_items": null,
            "left": null,
            "margin": null,
            "max_height": null,
            "max_width": null,
            "min_height": null,
            "min_width": null,
            "object_fit": null,
            "object_position": null,
            "order": null,
            "overflow": null,
            "overflow_x": null,
            "overflow_y": null,
            "padding": null,
            "right": null,
            "top": null,
            "visibility": null,
            "width": null
          }
        },
        "cef1a2726f644495935a40e9e3767ab8": {
          "model_module": "@jupyter-widgets/base",
          "model_module_version": "1.2.0",
          "model_name": "LayoutModel",
          "state": {
            "_model_module": "@jupyter-widgets/base",
            "_model_module_version": "1.2.0",
            "_model_name": "LayoutModel",
            "_view_count": null,
            "_view_module": "@jupyter-widgets/base",
            "_view_module_version": "1.2.0",
            "_view_name": "LayoutView",
            "align_content": null,
            "align_items": null,
            "align_self": null,
            "border": null,
            "bottom": null,
            "display": null,
            "flex": null,
            "flex_flow": null,
            "grid_area": null,
            "grid_auto_columns": null,
            "grid_auto_flow": null,
            "grid_auto_rows": null,
            "grid_column": null,
            "grid_gap": null,
            "grid_row": null,
            "grid_template_areas": null,
            "grid_template_columns": null,
            "grid_template_rows": null,
            "height": null,
            "justify_content": null,
            "justify_items": null,
            "left": null,
            "margin": null,
            "max_height": null,
            "max_width": null,
            "min_height": null,
            "min_width": null,
            "object_fit": null,
            "object_position": null,
            "order": null,
            "overflow": null,
            "overflow_x": null,
            "overflow_y": null,
            "padding": null,
            "right": null,
            "top": null,
            "visibility": null,
            "width": null
          }
        },
        "de4b402083ff4f198c44b92235f5ace6": {
          "model_module": "@jupyter-widgets/controls",
          "model_module_version": "1.5.0",
          "model_name": "HTMLModel",
          "state": {
            "_dom_classes": [],
            "_model_module": "@jupyter-widgets/controls",
            "_model_module_version": "1.5.0",
            "_model_name": "HTMLModel",
            "_view_count": null,
            "_view_module": "@jupyter-widgets/controls",
            "_view_module_version": "1.5.0",
            "_view_name": "HTMLView",
            "description": "",
            "description_tooltip": null,
            "layout": "IPY_MODEL_03df793d35fa4d23aba2d3aab82f46bd",
            "placeholder": "​",
            "style": "IPY_MODEL_370d3687487e47c6b92b6a5ac168ad38",
            "value": " 1000/1000 [00:02&lt;00:00, 442.92 examples/s]"
          }
        },
        "efb6442cfe6d4134a3388c2c0c23221f": {
          "model_module": "@jupyter-widgets/controls",
          "model_module_version": "1.5.0",
          "model_name": "HBoxModel",
          "state": {
            "_dom_classes": [],
            "_model_module": "@jupyter-widgets/controls",
            "_model_module_version": "1.5.0",
            "_model_name": "HBoxModel",
            "_view_count": null,
            "_view_module": "@jupyter-widgets/controls",
            "_view_module_version": "1.5.0",
            "_view_name": "HBoxView",
            "box_style": "",
            "children": [
              "IPY_MODEL_5e23033cf19448abbf108591dcd20524",
              "IPY_MODEL_6179dd65f0d24ae389864e337f683eea",
              "IPY_MODEL_de4b402083ff4f198c44b92235f5ace6"
            ],
            "layout": "IPY_MODEL_0852fc4c05604e5aaba7ea83be7ffbc2"
          }
        },
        "f037c8701c424acaadd5e410e7faf663": {
          "model_module": "@jupyter-widgets/controls",
          "model_module_version": "1.5.0",
          "model_name": "ProgressStyleModel",
          "state": {
            "_model_module": "@jupyter-widgets/controls",
            "_model_module_version": "1.5.0",
            "_model_name": "ProgressStyleModel",
            "_view_count": null,
            "_view_module": "@jupyter-widgets/base",
            "_view_module_version": "1.2.0",
            "_view_name": "StyleView",
            "bar_color": null,
            "description_width": ""
          }
        }
      }
    }
  },
  "nbformat": 4,
  "nbformat_minor": 0
}